{
  "nbformat": 4,
  "nbformat_minor": 0,
  "metadata": {
    "colab": {
      "name": "Machine-Learning.ipynb",
      "provenance": [],
      "collapsed_sections": []
    },
    "kernelspec": {
      "name": "python3",
      "display_name": "Python 3"
    },
    "accelerator": "GPU"
  },
  "cells": [
    {
      "cell_type": "markdown",
      "metadata": {
        "id": "ARul486AI-8b"
      },
      "source": [
        "###Line charts by use of plotly"
      ]
    },
    {
      "cell_type": "markdown",
      "metadata": {
        "id": "Sb3mdWgBE8xg"
      },
      "source": [
        "#Analysis on movie dataset"
      ]
    },
    {
      "cell_type": "code",
      "metadata": {
        "id": "8DlvQ2FmGtPt",
        "outputId": "c7bf49fe-bd51-41c5-a8d8-40b21098e8ce",
        "colab": {
          "base_uri": "https://localhost:8080/",
          "height": 154
        }
      },
      "source": [
        "%lsmagic\n"
      ],
      "execution_count": null,
      "outputs": [
        {
          "output_type": "execute_result",
          "data": {
            "application/json": {
              "cell": {
                "prun": "ExecutionMagics",
                "file": "Other",
                "!": "OSMagics",
                "capture": "ExecutionMagics",
                "timeit": "ExecutionMagics",
                "script": "ScriptMagics",
                "pypy": "Other",
                "system": "OSMagics",
                "perl": "Other",
                "html": "DisplayMagics",
                "bash": "Other",
                "shell": "Other",
                "HTML": "Other",
                "python": "Other",
                "SVG": "Other",
                "javascript": "DisplayMagics",
                "bigquery": "Other",
                "js": "DisplayMagics",
                "writefile": "OSMagics",
                "ruby": "Other",
                "python3": "Other",
                "python2": "Other",
                "latex": "DisplayMagics",
                "sx": "OSMagics",
                "svg": "DisplayMagics",
                "sh": "Other",
                "time": "ExecutionMagics",
                "debug": "ExecutionMagics"
              },
              "line": {
                "psource": "NamespaceMagics",
                "logstart": "LoggingMagics",
                "popd": "OSMagics",
                "tensorflow_version": "Other",
                "loadpy": "CodeMagics",
                "colors": "BasicMagics",
                "who_ls": "NamespaceMagics",
                "lf": "Other",
                "ll": "Other",
                "pprint": "BasicMagics",
                "lk": "Other",
                "ls": "Other",
                "save": "CodeMagics",
                "tb": "ExecutionMagics",
                "lx": "Other",
                "pylab": "PylabMagics",
                "killbgscripts": "ScriptMagics",
                "quickref": "BasicMagics",
                "magic": "BasicMagics",
                "dhist": "OSMagics",
                "edit": "KernelMagics",
                "logstop": "LoggingMagics",
                "gui": "BasicMagics",
                "prun": "ExecutionMagics",
                "debug": "ExecutionMagics",
                "page": "BasicMagics",
                "logstate": "LoggingMagics",
                "ed": "Other",
                "pushd": "OSMagics",
                "timeit": "ExecutionMagics",
                "set_env": "OSMagics",
                "rehashx": "OSMagics",
                "hist": "Other",
                "qtconsole": "KernelMagics",
                "rm": "Other",
                "dirs": "OSMagics",
                "run": "ExecutionMagics",
                "reset_selective": "NamespaceMagics",
                "pinfo2": "NamespaceMagics",
                "matplotlib": "PylabMagics",
                "unload_ext": "ExtensionMagics",
                "doctest_mode": "BasicMagics",
                "logoff": "LoggingMagics",
                "reload_ext": "ExtensionMagics",
                "pdb": "ExecutionMagics",
                "load": "CodeMagics",
                "lsmagic": "BasicMagics",
                "autosave": "KernelMagics",
                "cd": "OSMagics",
                "pastebin": "CodeMagics",
                "alias_magic": "BasicMagics",
                "cp": "Other",
                "autocall": "AutoMagics",
                "ldir": "Other",
                "bookmark": "OSMagics",
                "connect_info": "KernelMagics",
                "mkdir": "Other",
                "system": "OSMagics",
                "whos": "NamespaceMagics",
                "rmdir": "Other",
                "automagic": "AutoMagics",
                "store": "StoreMagics",
                "more": "KernelMagics",
                "shell": "Other",
                "pdef": "NamespaceMagics",
                "precision": "BasicMagics",
                "pinfo": "NamespaceMagics",
                "pwd": "OSMagics",
                "psearch": "NamespaceMagics",
                "reset": "NamespaceMagics",
                "recall": "HistoryMagics",
                "xdel": "NamespaceMagics",
                "xmode": "BasicMagics",
                "cat": "Other",
                "mv": "Other",
                "rerun": "HistoryMagics",
                "logon": "LoggingMagics",
                "history": "HistoryMagics",
                "pycat": "OSMagics",
                "pip": "Other",
                "unalias": "OSMagics",
                "env": "OSMagics",
                "load_ext": "ExtensionMagics",
                "config": "ConfigMagics",
                "profile": "BasicMagics",
                "pfile": "NamespaceMagics",
                "less": "KernelMagics",
                "who": "NamespaceMagics",
                "notebook": "BasicMagics",
                "man": "KernelMagics",
                "sx": "OSMagics",
                "macro": "ExecutionMagics",
                "clear": "KernelMagics",
                "alias": "OSMagics",
                "time": "ExecutionMagics",
                "sc": "OSMagics",
                "rep": "Other",
                "pdoc": "NamespaceMagics"
              }
            },
            "text/plain": [
              "Available line magics:\n",
              "%alias  %alias_magic  %autocall  %automagic  %autosave  %bookmark  %cat  %cd  %clear  %colors  %config  %connect_info  %cp  %debug  %dhist  %dirs  %doctest_mode  %ed  %edit  %env  %gui  %hist  %history  %killbgscripts  %ldir  %less  %lf  %lk  %ll  %load  %load_ext  %loadpy  %logoff  %logon  %logstart  %logstate  %logstop  %ls  %lsmagic  %lx  %macro  %magic  %man  %matplotlib  %mkdir  %more  %mv  %notebook  %page  %pastebin  %pdb  %pdef  %pdoc  %pfile  %pinfo  %pinfo2  %pip  %popd  %pprint  %precision  %profile  %prun  %psearch  %psource  %pushd  %pwd  %pycat  %pylab  %qtconsole  %quickref  %recall  %rehashx  %reload_ext  %rep  %rerun  %reset  %reset_selective  %rm  %rmdir  %run  %save  %sc  %set_env  %shell  %store  %sx  %system  %tb  %tensorflow_version  %time  %timeit  %unalias  %unload_ext  %who  %who_ls  %whos  %xdel  %xmode\n",
              "\n",
              "Available cell magics:\n",
              "%%!  %%HTML  %%SVG  %%bash  %%bigquery  %%capture  %%debug  %%file  %%html  %%javascript  %%js  %%latex  %%perl  %%prun  %%pypy  %%python  %%python2  %%python3  %%ruby  %%script  %%sh  %%shell  %%svg  %%sx  %%system  %%time  %%timeit  %%writefile\n",
              "\n",
              "Automagic is ON, % prefix IS NOT needed for line magics."
            ]
          },
          "metadata": {
            "tags": []
          },
          "execution_count": 3
        }
      ]
    },
    {
      "cell_type": "code",
      "metadata": {
        "id": "dGSCskTvPGjr",
        "outputId": "a88c290b-d222-4d0b-f834-0410ca5e3ba5",
        "colab": {
          "base_uri": "https://localhost:8080/",
          "height": 104
        }
      },
      "source": [
        "%load_ext rpy2.ipython"
      ],
      "execution_count": null,
      "outputs": [
        {
          "output_type": "stream",
          "text": [
            "/usr/local/lib/python3.6/dist-packages/rpy2/robjects/pandas2ri.py:14: FutureWarning: pandas.core.index is deprecated and will be removed in a future version.  The public classes are available in the top-level namespace.\n",
            "  from pandas.core.index import Index as PandasIndex\n",
            "/usr/local/lib/python3.6/dist-packages/rpy2/robjects/pandas2ri.py:34: UserWarning: pandas >= 1.0 is not supported.\n",
            "  warnings.warn('pandas >= 1.0 is not supported.')\n"
          ],
          "name": "stderr"
        }
      ]
    },
    {
      "cell_type": "code",
      "metadata": {
        "id": "87RbTpAsWuMo"
      },
      "source": [
        "import pandas as pd\n",
        "import numpy as np"
      ],
      "execution_count": null,
      "outputs": []
    },
    {
      "cell_type": "code",
      "metadata": {
        "id": "bEnhHaQUXFdn",
        "outputId": "7107c7c2-20ba-4641-cf1a-b7709d4f8080",
        "colab": {
          "resources": {
            "http://localhost:8080/nbextensions/google.colab/files.js": {
              "data": "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",
              "ok": true,
              "headers": [
                [
                  "content-type",
                  "application/javascript"
                ]
              ],
              "status": 200,
              "status_text": ""
            }
          },
          "base_uri": "https://localhost:8080/",
          "height": 73
        }
      },
      "source": [
        "from google.colab import files\n",
        "upload = files.upload()"
      ],
      "execution_count": null,
      "outputs": [
        {
          "output_type": "display_data",
          "data": {
            "text/html": [
              "\n",
              "     <input type=\"file\" id=\"files-5215c7ad-b3d0-4a66-b563-76b1fbc9f3c9\" name=\"files[]\" multiple disabled\n",
              "        style=\"border:none\" />\n",
              "     <output id=\"result-5215c7ad-b3d0-4a66-b563-76b1fbc9f3c9\">\n",
              "      Upload widget is only available when the cell has been executed in the\n",
              "      current browser session. Please rerun this cell to enable.\n",
              "      </output>\n",
              "      <script src=\"/nbextensions/google.colab/files.js\"></script> "
            ],
            "text/plain": [
              "<IPython.core.display.HTML object>"
            ]
          },
          "metadata": {
            "tags": []
          }
        },
        {
          "output_type": "stream",
          "text": [
            "Saving HW1-data.csv to HW1-data.csv\n"
          ],
          "name": "stdout"
        }
      ]
    },
    {
      "cell_type": "code",
      "metadata": {
        "id": "kl6UJ1I2XoWd"
      },
      "source": [
        "df = pd.read_csv(\"HW1-data.csv\")"
      ],
      "execution_count": null,
      "outputs": []
    },
    {
      "cell_type": "code",
      "metadata": {
        "id": "gkGtS4sYziBP",
        "outputId": "b9a9ba1a-0095-4a63-a309-a06839fb2b9f",
        "colab": {
          "base_uri": "https://localhost:8080/",
          "height": 794
        }
      },
      "source": [
        "df"
      ],
      "execution_count": null,
      "outputs": [
        {
          "output_type": "execute_result",
          "data": {
            "text/html": [
              "<div>\n",
              "<style scoped>\n",
              "    .dataframe tbody tr th:only-of-type {\n",
              "        vertical-align: middle;\n",
              "    }\n",
              "\n",
              "    .dataframe tbody tr th {\n",
              "        vertical-align: top;\n",
              "    }\n",
              "\n",
              "    .dataframe thead th {\n",
              "        text-align: right;\n",
              "    }\n",
              "</style>\n",
              "<table border=\"1\" class=\"dataframe\">\n",
              "  <thead>\n",
              "    <tr style=\"text-align: right;\">\n",
              "      <th></th>\n",
              "      <th>User</th>\n",
              "      <th>Gender (1 =F, 0=M)</th>\n",
              "      <th>260: Star Wars: Episode IV - A New Hope (1977)</th>\n",
              "      <th>1210: Star Wars: Episode VI - Return of the Jedi (1983)</th>\n",
              "      <th>356: Forrest Gump (1994)</th>\n",
              "      <th>318: Shawshank Redemption, The (1994)</th>\n",
              "      <th>593: Silence of the Lambs, The (1991)</th>\n",
              "      <th>3578: Gladiator (2000)</th>\n",
              "      <th>1: Toy Story (1995)</th>\n",
              "      <th>2028: Saving Private Ryan (1998)</th>\n",
              "      <th>296: Pulp Fiction (1994)</th>\n",
              "      <th>1259: Stand by Me (1986)</th>\n",
              "      <th>2396: Shakespeare in Love (1998)</th>\n",
              "      <th>2916: Total Recall (1990)</th>\n",
              "      <th>780: Independence Day (ID4) (1996)</th>\n",
              "      <th>541: Blade Runner (1982)</th>\n",
              "      <th>1265: Groundhog Day (1993)</th>\n",
              "      <th>2571: Matrix, The (1999)</th>\n",
              "      <th>527: Schindler's List (1993)</th>\n",
              "      <th>2762: Sixth Sense, The (1999)</th>\n",
              "      <th>1198: Raiders of the Lost Ark (1981)</th>\n",
              "      <th>34: Babe (1995)</th>\n",
              "    </tr>\n",
              "  </thead>\n",
              "  <tbody>\n",
              "    <tr>\n",
              "      <th>0</th>\n",
              "      <td>755</td>\n",
              "      <td>0</td>\n",
              "      <td>1.0</td>\n",
              "      <td>5.0</td>\n",
              "      <td>2.0</td>\n",
              "      <td>NaN</td>\n",
              "      <td>4.0</td>\n",
              "      <td>4.0</td>\n",
              "      <td>2.0</td>\n",
              "      <td>2.0</td>\n",
              "      <td>NaN</td>\n",
              "      <td>3.0</td>\n",
              "      <td>2.0</td>\n",
              "      <td>NaN</td>\n",
              "      <td>5.0</td>\n",
              "      <td>2.0</td>\n",
              "      <td>NaN</td>\n",
              "      <td>4.0</td>\n",
              "      <td>2.0</td>\n",
              "      <td>5.0</td>\n",
              "      <td>NaN</td>\n",
              "      <td>NaN</td>\n",
              "    </tr>\n",
              "    <tr>\n",
              "      <th>1</th>\n",
              "      <td>5277</td>\n",
              "      <td>0</td>\n",
              "      <td>5.0</td>\n",
              "      <td>3.0</td>\n",
              "      <td>NaN</td>\n",
              "      <td>2.0</td>\n",
              "      <td>4.0</td>\n",
              "      <td>2.0</td>\n",
              "      <td>1.0</td>\n",
              "      <td>NaN</td>\n",
              "      <td>NaN</td>\n",
              "      <td>4.0</td>\n",
              "      <td>3.0</td>\n",
              "      <td>2.0</td>\n",
              "      <td>2.0</td>\n",
              "      <td>NaN</td>\n",
              "      <td>2.0</td>\n",
              "      <td>NaN</td>\n",
              "      <td>5.0</td>\n",
              "      <td>1.0</td>\n",
              "      <td>3.0</td>\n",
              "      <td>NaN</td>\n",
              "    </tr>\n",
              "    <tr>\n",
              "      <th>2</th>\n",
              "      <td>1577</td>\n",
              "      <td>1</td>\n",
              "      <td>NaN</td>\n",
              "      <td>NaN</td>\n",
              "      <td>NaN</td>\n",
              "      <td>5.0</td>\n",
              "      <td>2.0</td>\n",
              "      <td>NaN</td>\n",
              "      <td>4.0</td>\n",
              "      <td>NaN</td>\n",
              "      <td>NaN</td>\n",
              "      <td>1.0</td>\n",
              "      <td>NaN</td>\n",
              "      <td>1.0</td>\n",
              "      <td>4.0</td>\n",
              "      <td>4.0</td>\n",
              "      <td>1.0</td>\n",
              "      <td>1.0</td>\n",
              "      <td>2.0</td>\n",
              "      <td>3.0</td>\n",
              "      <td>1.0</td>\n",
              "      <td>3.0</td>\n",
              "    </tr>\n",
              "    <tr>\n",
              "      <th>3</th>\n",
              "      <td>4388</td>\n",
              "      <td>0</td>\n",
              "      <td>NaN</td>\n",
              "      <td>3.0</td>\n",
              "      <td>NaN</td>\n",
              "      <td>NaN</td>\n",
              "      <td>NaN</td>\n",
              "      <td>1.0</td>\n",
              "      <td>2.0</td>\n",
              "      <td>3.0</td>\n",
              "      <td>4.0</td>\n",
              "      <td>NaN</td>\n",
              "      <td>NaN</td>\n",
              "      <td>4.0</td>\n",
              "      <td>1.0</td>\n",
              "      <td>3.0</td>\n",
              "      <td>5.0</td>\n",
              "      <td>NaN</td>\n",
              "      <td>5.0</td>\n",
              "      <td>1.0</td>\n",
              "      <td>1.0</td>\n",
              "      <td>2.0</td>\n",
              "    </tr>\n",
              "    <tr>\n",
              "      <th>4</th>\n",
              "      <td>1202</td>\n",
              "      <td>1</td>\n",
              "      <td>4.0</td>\n",
              "      <td>3.0</td>\n",
              "      <td>4.0</td>\n",
              "      <td>1.0</td>\n",
              "      <td>4.0</td>\n",
              "      <td>1.0</td>\n",
              "      <td>NaN</td>\n",
              "      <td>4.0</td>\n",
              "      <td>NaN</td>\n",
              "      <td>1.0</td>\n",
              "      <td>5.0</td>\n",
              "      <td>1.0</td>\n",
              "      <td>NaN</td>\n",
              "      <td>4.0</td>\n",
              "      <td>NaN</td>\n",
              "      <td>3.0</td>\n",
              "      <td>5.0</td>\n",
              "      <td>5.0</td>\n",
              "      <td>NaN</td>\n",
              "      <td>NaN</td>\n",
              "    </tr>\n",
              "    <tr>\n",
              "      <th>5</th>\n",
              "      <td>3823</td>\n",
              "      <td>1</td>\n",
              "      <td>2.0</td>\n",
              "      <td>4.0</td>\n",
              "      <td>4.0</td>\n",
              "      <td>4.0</td>\n",
              "      <td>NaN</td>\n",
              "      <td>NaN</td>\n",
              "      <td>3.0</td>\n",
              "      <td>1.0</td>\n",
              "      <td>4.0</td>\n",
              "      <td>4.0</td>\n",
              "      <td>5.0</td>\n",
              "      <td>2.0</td>\n",
              "      <td>4.0</td>\n",
              "      <td>NaN</td>\n",
              "      <td>1.0</td>\n",
              "      <td>NaN</td>\n",
              "      <td>NaN</td>\n",
              "      <td>3.0</td>\n",
              "      <td>NaN</td>\n",
              "      <td>2.0</td>\n",
              "    </tr>\n",
              "    <tr>\n",
              "      <th>6</th>\n",
              "      <td>5448</td>\n",
              "      <td>0</td>\n",
              "      <td>NaN</td>\n",
              "      <td>NaN</td>\n",
              "      <td>3.0</td>\n",
              "      <td>1.0</td>\n",
              "      <td>1.0</td>\n",
              "      <td>4.0</td>\n",
              "      <td>NaN</td>\n",
              "      <td>5.0</td>\n",
              "      <td>2.0</td>\n",
              "      <td>NaN</td>\n",
              "      <td>1.0</td>\n",
              "      <td>NaN</td>\n",
              "      <td>NaN</td>\n",
              "      <td>3.0</td>\n",
              "      <td>NaN</td>\n",
              "      <td>1.0</td>\n",
              "      <td>NaN</td>\n",
              "      <td>NaN</td>\n",
              "      <td>5.0</td>\n",
              "      <td>2.0</td>\n",
              "    </tr>\n",
              "    <tr>\n",
              "      <th>7</th>\n",
              "      <td>5347</td>\n",
              "      <td>0</td>\n",
              "      <td>4.0</td>\n",
              "      <td>NaN</td>\n",
              "      <td>NaN</td>\n",
              "      <td>NaN</td>\n",
              "      <td>3.0</td>\n",
              "      <td>2.0</td>\n",
              "      <td>2.0</td>\n",
              "      <td>NaN</td>\n",
              "      <td>3.0</td>\n",
              "      <td>NaN</td>\n",
              "      <td>NaN</td>\n",
              "      <td>2.0</td>\n",
              "      <td>3.0</td>\n",
              "      <td>2.0</td>\n",
              "      <td>4.0</td>\n",
              "      <td>NaN</td>\n",
              "      <td>1.0</td>\n",
              "      <td>3.0</td>\n",
              "      <td>5.0</td>\n",
              "      <td>NaN</td>\n",
              "    </tr>\n",
              "    <tr>\n",
              "      <th>8</th>\n",
              "      <td>4117</td>\n",
              "      <td>1</td>\n",
              "      <td>5.0</td>\n",
              "      <td>1.0</td>\n",
              "      <td>NaN</td>\n",
              "      <td>4.0</td>\n",
              "      <td>2.0</td>\n",
              "      <td>4.0</td>\n",
              "      <td>4.0</td>\n",
              "      <td>4.0</td>\n",
              "      <td>NaN</td>\n",
              "      <td>1.0</td>\n",
              "      <td>2.0</td>\n",
              "      <td>3.0</td>\n",
              "      <td>1.0</td>\n",
              "      <td>NaN</td>\n",
              "      <td>5.0</td>\n",
              "      <td>NaN</td>\n",
              "      <td>NaN</td>\n",
              "      <td>NaN</td>\n",
              "      <td>NaN</td>\n",
              "      <td>5.0</td>\n",
              "    </tr>\n",
              "    <tr>\n",
              "      <th>9</th>\n",
              "      <td>2765</td>\n",
              "      <td>0</td>\n",
              "      <td>4.0</td>\n",
              "      <td>2.0</td>\n",
              "      <td>NaN</td>\n",
              "      <td>5.0</td>\n",
              "      <td>3.0</td>\n",
              "      <td>NaN</td>\n",
              "      <td>4.0</td>\n",
              "      <td>3.0</td>\n",
              "      <td>4.0</td>\n",
              "      <td>NaN</td>\n",
              "      <td>NaN</td>\n",
              "      <td>NaN</td>\n",
              "      <td>2.0</td>\n",
              "      <td>NaN</td>\n",
              "      <td>NaN</td>\n",
              "      <td>2.0</td>\n",
              "      <td>5.0</td>\n",
              "      <td>1.0</td>\n",
              "      <td>NaN</td>\n",
              "      <td>NaN</td>\n",
              "    </tr>\n",
              "    <tr>\n",
              "      <th>10</th>\n",
              "      <td>5450</td>\n",
              "      <td>1</td>\n",
              "      <td>2.0</td>\n",
              "      <td>1.0</td>\n",
              "      <td>5.0</td>\n",
              "      <td>NaN</td>\n",
              "      <td>NaN</td>\n",
              "      <td>5.0</td>\n",
              "      <td>5.0</td>\n",
              "      <td>NaN</td>\n",
              "      <td>NaN</td>\n",
              "      <td>NaN</td>\n",
              "      <td>NaN</td>\n",
              "      <td>3.0</td>\n",
              "      <td>2.0</td>\n",
              "      <td>NaN</td>\n",
              "      <td>NaN</td>\n",
              "      <td>1.0</td>\n",
              "      <td>NaN</td>\n",
              "      <td>2.0</td>\n",
              "      <td>1.0</td>\n",
              "      <td>4.0</td>\n",
              "    </tr>\n",
              "    <tr>\n",
              "      <th>11</th>\n",
              "      <td>139</td>\n",
              "      <td>0</td>\n",
              "      <td>3.0</td>\n",
              "      <td>5.0</td>\n",
              "      <td>2.0</td>\n",
              "      <td>NaN</td>\n",
              "      <td>2.0</td>\n",
              "      <td>NaN</td>\n",
              "      <td>2.0</td>\n",
              "      <td>NaN</td>\n",
              "      <td>1.0</td>\n",
              "      <td>NaN</td>\n",
              "      <td>3.0</td>\n",
              "      <td>NaN</td>\n",
              "      <td>3.0</td>\n",
              "      <td>NaN</td>\n",
              "      <td>2.0</td>\n",
              "      <td>5.0</td>\n",
              "      <td>NaN</td>\n",
              "      <td>NaN</td>\n",
              "      <td>NaN</td>\n",
              "      <td>2.0</td>\n",
              "    </tr>\n",
              "    <tr>\n",
              "      <th>12</th>\n",
              "      <td>1940</td>\n",
              "      <td>0</td>\n",
              "      <td>2.0</td>\n",
              "      <td>3.0</td>\n",
              "      <td>NaN</td>\n",
              "      <td>5.0</td>\n",
              "      <td>4.0</td>\n",
              "      <td>NaN</td>\n",
              "      <td>4.0</td>\n",
              "      <td>5.0</td>\n",
              "      <td>NaN</td>\n",
              "      <td>NaN</td>\n",
              "      <td>NaN</td>\n",
              "      <td>2.0</td>\n",
              "      <td>4.0</td>\n",
              "      <td>NaN</td>\n",
              "      <td>3.0</td>\n",
              "      <td>NaN</td>\n",
              "      <td>NaN</td>\n",
              "      <td>NaN</td>\n",
              "      <td>5.0</td>\n",
              "      <td>NaN</td>\n",
              "    </tr>\n",
              "    <tr>\n",
              "      <th>13</th>\n",
              "      <td>3118</td>\n",
              "      <td>1</td>\n",
              "      <td>3.0</td>\n",
              "      <td>NaN</td>\n",
              "      <td>3.0</td>\n",
              "      <td>NaN</td>\n",
              "      <td>2.0</td>\n",
              "      <td>NaN</td>\n",
              "      <td>3.0</td>\n",
              "      <td>NaN</td>\n",
              "      <td>NaN</td>\n",
              "      <td>4.0</td>\n",
              "      <td>NaN</td>\n",
              "      <td>1.0</td>\n",
              "      <td>2.0</td>\n",
              "      <td>2.0</td>\n",
              "      <td>3.0</td>\n",
              "      <td>5.0</td>\n",
              "      <td>1.0</td>\n",
              "      <td>NaN</td>\n",
              "      <td>NaN</td>\n",
              "      <td>NaN</td>\n",
              "    </tr>\n",
              "    <tr>\n",
              "      <th>14</th>\n",
              "      <td>4656</td>\n",
              "      <td>1</td>\n",
              "      <td>4.0</td>\n",
              "      <td>4.0</td>\n",
              "      <td>NaN</td>\n",
              "      <td>NaN</td>\n",
              "      <td>5.0</td>\n",
              "      <td>5.0</td>\n",
              "      <td>2.0</td>\n",
              "      <td>NaN</td>\n",
              "      <td>3.0</td>\n",
              "      <td>5.0</td>\n",
              "      <td>NaN</td>\n",
              "      <td>1.0</td>\n",
              "      <td>3.0</td>\n",
              "      <td>NaN</td>\n",
              "      <td>2.0</td>\n",
              "      <td>NaN</td>\n",
              "      <td>3.0</td>\n",
              "      <td>NaN</td>\n",
              "      <td>3.0</td>\n",
              "      <td>1.0</td>\n",
              "    </tr>\n",
              "    <tr>\n",
              "      <th>15</th>\n",
              "      <td>4796</td>\n",
              "      <td>1</td>\n",
              "      <td>NaN</td>\n",
              "      <td>NaN</td>\n",
              "      <td>1.0</td>\n",
              "      <td>NaN</td>\n",
              "      <td>3.0</td>\n",
              "      <td>2.0</td>\n",
              "      <td>NaN</td>\n",
              "      <td>2.0</td>\n",
              "      <td>NaN</td>\n",
              "      <td>1.0</td>\n",
              "      <td>5.0</td>\n",
              "      <td>NaN</td>\n",
              "      <td>NaN</td>\n",
              "      <td>NaN</td>\n",
              "      <td>5.0</td>\n",
              "      <td>2.0</td>\n",
              "      <td>2.0</td>\n",
              "      <td>4.0</td>\n",
              "      <td>3.0</td>\n",
              "      <td>4.0</td>\n",
              "    </tr>\n",
              "    <tr>\n",
              "      <th>16</th>\n",
              "      <td>6037</td>\n",
              "      <td>0</td>\n",
              "      <td>NaN</td>\n",
              "      <td>NaN</td>\n",
              "      <td>NaN</td>\n",
              "      <td>NaN</td>\n",
              "      <td>4.0</td>\n",
              "      <td>NaN</td>\n",
              "      <td>2.0</td>\n",
              "      <td>NaN</td>\n",
              "      <td>2.0</td>\n",
              "      <td>NaN</td>\n",
              "      <td>2.0</td>\n",
              "      <td>NaN</td>\n",
              "      <td>NaN</td>\n",
              "      <td>NaN</td>\n",
              "      <td>NaN</td>\n",
              "      <td>4.0</td>\n",
              "      <td>NaN</td>\n",
              "      <td>NaN</td>\n",
              "      <td>NaN</td>\n",
              "      <td>NaN</td>\n",
              "    </tr>\n",
              "    <tr>\n",
              "      <th>17</th>\n",
              "      <td>3048</td>\n",
              "      <td>1</td>\n",
              "      <td>4.0</td>\n",
              "      <td>5.0</td>\n",
              "      <td>1.0</td>\n",
              "      <td>5.0</td>\n",
              "      <td>1.0</td>\n",
              "      <td>1.0</td>\n",
              "      <td>4.0</td>\n",
              "      <td>NaN</td>\n",
              "      <td>5.0</td>\n",
              "      <td>NaN</td>\n",
              "      <td>NaN</td>\n",
              "      <td>NaN</td>\n",
              "      <td>NaN</td>\n",
              "      <td>4.0</td>\n",
              "      <td>NaN</td>\n",
              "      <td>NaN</td>\n",
              "      <td>2.0</td>\n",
              "      <td>1.0</td>\n",
              "      <td>2.0</td>\n",
              "      <td>5.0</td>\n",
              "    </tr>\n",
              "    <tr>\n",
              "      <th>18</th>\n",
              "      <td>4790</td>\n",
              "      <td>0</td>\n",
              "      <td>5.0</td>\n",
              "      <td>1.0</td>\n",
              "      <td>NaN</td>\n",
              "      <td>NaN</td>\n",
              "      <td>NaN</td>\n",
              "      <td>4.0</td>\n",
              "      <td>2.0</td>\n",
              "      <td>1.0</td>\n",
              "      <td>3.0</td>\n",
              "      <td>3.0</td>\n",
              "      <td>3.0</td>\n",
              "      <td>1.0</td>\n",
              "      <td>NaN</td>\n",
              "      <td>NaN</td>\n",
              "      <td>NaN</td>\n",
              "      <td>2.0</td>\n",
              "      <td>NaN</td>\n",
              "      <td>NaN</td>\n",
              "      <td>NaN</td>\n",
              "      <td>NaN</td>\n",
              "    </tr>\n",
              "    <tr>\n",
              "      <th>19</th>\n",
              "      <td>4489</td>\n",
              "      <td>0</td>\n",
              "      <td>1.0</td>\n",
              "      <td>2.0</td>\n",
              "      <td>2.0</td>\n",
              "      <td>4.0</td>\n",
              "      <td>5.0</td>\n",
              "      <td>NaN</td>\n",
              "      <td>2.0</td>\n",
              "      <td>3.0</td>\n",
              "      <td>2.0</td>\n",
              "      <td>2.0</td>\n",
              "      <td>1.0</td>\n",
              "      <td>NaN</td>\n",
              "      <td>NaN</td>\n",
              "      <td>5.0</td>\n",
              "      <td>5.0</td>\n",
              "      <td>4.0</td>\n",
              "      <td>3.0</td>\n",
              "      <td>5.0</td>\n",
              "      <td>3.0</td>\n",
              "      <td>NaN</td>\n",
              "    </tr>\n",
              "  </tbody>\n",
              "</table>\n",
              "</div>"
            ],
            "text/plain": [
              "    User  ...  34: Babe (1995)\n",
              "0    755  ...              NaN\n",
              "1   5277  ...              NaN\n",
              "2   1577  ...              3.0\n",
              "3   4388  ...              2.0\n",
              "4   1202  ...              NaN\n",
              "5   3823  ...              2.0\n",
              "6   5448  ...              2.0\n",
              "7   5347  ...              NaN\n",
              "8   4117  ...              5.0\n",
              "9   2765  ...              NaN\n",
              "10  5450  ...              4.0\n",
              "11   139  ...              2.0\n",
              "12  1940  ...              NaN\n",
              "13  3118  ...              NaN\n",
              "14  4656  ...              1.0\n",
              "15  4796  ...              4.0\n",
              "16  6037  ...              NaN\n",
              "17  3048  ...              5.0\n",
              "18  4790  ...              NaN\n",
              "19  4489  ...              NaN\n",
              "\n",
              "[20 rows x 22 columns]"
            ]
          },
          "metadata": {
            "tags": []
          },
          "execution_count": 4
        }
      ]
    },
    {
      "cell_type": "code",
      "metadata": {
        "id": "gUKJ1HjDzy5w"
      },
      "source": [
        "l=[]\n",
        "for i in df.columns[2:]:\n",
        "  l.append(df[i].mean())"
      ],
      "execution_count": null,
      "outputs": []
    },
    {
      "cell_type": "code",
      "metadata": {
        "id": "gniPP5XL5HCX",
        "outputId": "b2215fe5-a737-4224-84d3-609b365bc30d",
        "colab": {
          "base_uri": "https://localhost:8080/",
          "height": 353
        }
      },
      "source": [
        "sorted(l,reverse = True)"
      ],
      "execution_count": null,
      "outputs": [
        {
          "output_type": "execute_result",
          "data": {
            "text/plain": [
              "[3.6,\n",
              " 3.2666666666666666,\n",
              " 3.2222222222222223,\n",
              " 3.1666666666666665,\n",
              " 3.0625,\n",
              " 3.0,\n",
              " 3.0,\n",
              " 3.0,\n",
              " 3.0,\n",
              " 3.0,\n",
              " 2.9166666666666665,\n",
              " 2.909090909090909,\n",
              " 2.909090909090909,\n",
              " 2.8333333333333335,\n",
              " 2.8333333333333335,\n",
              " 2.823529411764706,\n",
              " 2.769230769230769,\n",
              " 2.7,\n",
              " 2.6363636363636362,\n",
              " 1.9166666666666667]"
            ]
          },
          "metadata": {
            "tags": []
          },
          "execution_count": 6
        }
      ]
    },
    {
      "cell_type": "code",
      "metadata": {
        "id": "gYrXainM4rrx",
        "outputId": "ea189518-9f0f-40e5-fcb0-c762c335be00",
        "colab": {
          "base_uri": "https://localhost:8080/",
          "height": 34
        }
      },
      "source": [
        "for i in df.columns[2:]:\n",
        "  if(df[i].mean()==3.2222222222222223):\n",
        "    print(i)\n",
        "# 3rd top movie by mean rating"
      ],
      "execution_count": null,
      "outputs": [
        {
          "output_type": "stream",
          "text": [
            "541: Blade Runner (1982)\n"
          ],
          "name": "stdout"
        }
      ]
    },
    {
      "cell_type": "code",
      "metadata": {
        "id": "q9foVnDv0Q7v",
        "outputId": "0c1228de-85b0-4cf9-df26-8c7a9ee5664e",
        "colab": {
          "base_uri": "https://localhost:8080/",
          "height": 34
        }
      },
      "source": [
        "df['260: Star Wars: Episode IV - A New Hope (1977)'].mean()\n",
        "# movie rating by mean of '260: Star Wars: Episode IV - A New Hope (1977)'"
      ],
      "execution_count": null,
      "outputs": [
        {
          "output_type": "execute_result",
          "data": {
            "text/plain": [
              "3.2666666666666666"
            ]
          },
          "metadata": {
            "tags": []
          },
          "execution_count": 8
        }
      ]
    },
    {
      "cell_type": "code",
      "metadata": {
        "id": "vqpxcNVg4Yc4",
        "outputId": "8386888d-ec55-462d-d393-5de7e12fd2df",
        "colab": {
          "base_uri": "https://localhost:8080/",
          "height": 34
        }
      },
      "source": [
        "max(df[df.columns[2:]].mean())\n",
        "# What is the mean rating for that highest-ranked movie"
      ],
      "execution_count": null,
      "outputs": [
        {
          "output_type": "execute_result",
          "data": {
            "text/plain": [
              "3.6"
            ]
          },
          "metadata": {
            "tags": []
          },
          "execution_count": 9
        }
      ]
    },
    {
      "cell_type": "code",
      "metadata": {
        "id": "-PR_h29S7mBe"
      },
      "source": [
        "p = []\n",
        "for i in df.columns[2:]:\n",
        "  p.append(df[i].count())"
      ],
      "execution_count": null,
      "outputs": []
    },
    {
      "cell_type": "code",
      "metadata": {
        "id": "qrF92_eP8gwu",
        "outputId": "a238e763-7d00-4102-99f3-fb1e17b889c6",
        "colab": {
          "base_uri": "https://localhost:8080/",
          "height": 34
        }
      },
      "source": [
        "sorted(p,reverse=True)"
      ],
      "execution_count": null,
      "outputs": [
        {
          "output_type": "execute_result",
          "data": {
            "text/plain": [
              "[17, 16, 15, 14, 13, 12, 12, 12, 12, 12, 12, 11, 11, 11, 11, 11, 10, 10, 10, 9]"
            ]
          },
          "metadata": {
            "tags": []
          },
          "execution_count": 11
        }
      ]
    },
    {
      "cell_type": "code",
      "metadata": {
        "id": "E-Nq733g81Eg",
        "outputId": "9121954d-ed3d-4261-9288-ea84417f7404",
        "colab": {
          "base_uri": "https://localhost:8080/",
          "height": 34
        }
      },
      "source": [
        "for i in df.columns[2:]:\n",
        "  if(df[i].count()==15):\n",
        "    print(i)\n",
        "# what is the third-highest ranked movie by number of ratings?"
      ],
      "execution_count": null,
      "outputs": [
        {
          "output_type": "stream",
          "text": [
            "260: Star Wars: Episode IV - A New Hope (1977)\n"
          ],
          "name": "stdout"
        }
      ]
    },
    {
      "cell_type": "code",
      "metadata": {
        "id": "0gov49SF_Mmw"
      },
      "source": [
        "p = []\n",
        "for i in df.columns[2:]:\n",
        "  p.append(df[df[i]>=4])"
      ],
      "execution_count": null,
      "outputs": []
    },
    {
      "cell_type": "code",
      "metadata": {
        "id": "te7dd1Tn_ZCK"
      },
      "source": [
        "p = []\n",
        "for i in df.columns[2:]:\n",
        "  p.append((len(df[df[i]>=4])/len(df[i].dropna())))"
      ],
      "execution_count": null,
      "outputs": []
    },
    {
      "cell_type": "code",
      "metadata": {
        "id": "Yuq-JcZcFMmQ",
        "outputId": "36db63bd-a148-456b-aca8-b436ab0a8237",
        "colab": {
          "base_uri": "https://localhost:8080/",
          "height": 353
        }
      },
      "source": [
        "sorted(p,reverse = True)"
      ],
      "execution_count": null,
      "outputs": [
        {
          "output_type": "execute_result",
          "data": {
            "text/plain": [
              "[0.7,\n",
              " 0.5333333333333333,\n",
              " 0.5,\n",
              " 0.4444444444444444,\n",
              " 0.4375,\n",
              " 0.4166666666666667,\n",
              " 0.4166666666666667,\n",
              " 0.4,\n",
              " 0.36363636363636365,\n",
              " 0.36363636363636365,\n",
              " 0.36363636363636365,\n",
              " 0.35714285714285715,\n",
              " 0.35294117647058826,\n",
              " 0.3333333333333333,\n",
              " 0.3333333333333333,\n",
              " 0.3076923076923077,\n",
              " 0.3,\n",
              " 0.2727272727272727,\n",
              " 0.2727272727272727,\n",
              " 0.08333333333333333]"
            ]
          },
          "metadata": {
            "tags": []
          },
          "execution_count": 15
        }
      ]
    },
    {
      "cell_type": "code",
      "metadata": {
        "id": "t2pbnFysFd2G",
        "outputId": "ab44efd1-f515-4771-feec-2f24408540bc",
        "colab": {
          "base_uri": "https://localhost:8080/",
          "height": 34
        }
      },
      "source": [
        "for i in df.columns[2:]:\n",
        "  if(len(df[df[i]>=4])/len(df[i].dropna())==0.5):\n",
        "    print(i)\n",
        "#movie ranks third by the percent-liking metric"
      ],
      "execution_count": null,
      "outputs": [
        {
          "output_type": "stream",
          "text": [
            "3578: Gladiator (2000)\n"
          ],
          "name": "stdout"
        }
      ]
    },
    {
      "cell_type": "code",
      "metadata": {
        "id": "Jx2YrhRrJ1qs"
      },
      "source": [
        "a = []\n",
        "for i in df.columns[2:]:\n",
        "  a.append(len(df[['1: Toy Story (1995)',i]].dropna())/len(df['1: Toy Story (1995)'].dropna()))"
      ],
      "execution_count": null,
      "outputs": []
    },
    {
      "cell_type": "code",
      "metadata": {
        "id": "-hIFcJwlNdaP",
        "outputId": "752be061-6a92-44b6-c437-36d9e4cb6bb1",
        "colab": {
          "base_uri": "https://localhost:8080/",
          "height": 353
        }
      },
      "source": [
        "a"
      ],
      "execution_count": null,
      "outputs": [
        {
          "output_type": "execute_result",
          "data": {
            "text/plain": [
              "[0.8235294117647058,\n",
              " 0.7647058823529411,\n",
              " 0.4117647058823529,\n",
              " 0.47058823529411764,\n",
              " 0.7647058823529411,\n",
              " 0.5294117647058824,\n",
              " 1.0,\n",
              " 0.47058823529411764,\n",
              " 0.5882352941176471,\n",
              " 0.5294117647058824,\n",
              " 0.47058823529411764,\n",
              " 0.6470588235294118,\n",
              " 0.7647058823529411,\n",
              " 0.4117647058823529,\n",
              " 0.6470588235294118,\n",
              " 0.5294117647058824,\n",
              " 0.5882352941176471,\n",
              " 0.5882352941176471,\n",
              " 0.5294117647058824,\n",
              " 0.47058823529411764]"
            ]
          },
          "metadata": {
            "tags": []
          },
          "execution_count": 18
        }
      ]
    },
    {
      "cell_type": "code",
      "metadata": {
        "id": "hVMryf78NY-j",
        "outputId": "249f2975-4485-4e6d-bd4f-b599b2301c28",
        "colab": {
          "base_uri": "https://localhost:8080/",
          "height": 353
        }
      },
      "source": [
        "sorted(a,reverse=True)"
      ],
      "execution_count": null,
      "outputs": [
        {
          "output_type": "execute_result",
          "data": {
            "text/plain": [
              "[1.0,\n",
              " 0.8235294117647058,\n",
              " 0.7647058823529411,\n",
              " 0.7647058823529411,\n",
              " 0.7647058823529411,\n",
              " 0.6470588235294118,\n",
              " 0.6470588235294118,\n",
              " 0.5882352941176471,\n",
              " 0.5882352941176471,\n",
              " 0.5882352941176471,\n",
              " 0.5294117647058824,\n",
              " 0.5294117647058824,\n",
              " 0.5294117647058824,\n",
              " 0.5294117647058824,\n",
              " 0.47058823529411764,\n",
              " 0.47058823529411764,\n",
              " 0.47058823529411764,\n",
              " 0.47058823529411764,\n",
              " 0.4117647058823529,\n",
              " 0.4117647058823529]"
            ]
          },
          "metadata": {
            "tags": []
          },
          "execution_count": 19
        }
      ]
    },
    {
      "cell_type": "code",
      "metadata": {
        "id": "5xI5MgLJNLwE",
        "outputId": "c231ee6f-0fd2-4086-f5c2-17b27b2e6afb",
        "colab": {
          "base_uri": "https://localhost:8080/",
          "height": 67
        }
      },
      "source": [
        "for i in df.columns[2:]:\n",
        "  if(len(df[['1: Toy Story (1995)',i]].dropna())/len(df['1: Toy Story (1995)'].dropna())==0.7647058823529411):\n",
        "    print(i)\n",
        "# The next three highest-association movies with '1: Toy Story (1995)'"
      ],
      "execution_count": null,
      "outputs": [
        {
          "output_type": "stream",
          "text": [
            "1210: Star Wars: Episode VI - Return of the Jedi (1983)\n",
            "593: Silence of the Lambs, The (1991)\n",
            "780: Independence Day (ID4) (1996)\n"
          ],
          "name": "stdout"
        }
      ]
    },
    {
      "cell_type": "code",
      "metadata": {
        "id": "fb8lXp8kCUBR"
      },
      "source": [
        "cor = df.corr(method = 'pearson')# Correlation matrix of Dataset"
      ],
      "execution_count": null,
      "outputs": []
    },
    {
      "cell_type": "code",
      "metadata": {
        "id": "LGBdjfMWIfHl"
      },
      "source": [
        "import matplotlib.pyplot as plt\n",
        "%matplotlib inline"
      ],
      "execution_count": null,
      "outputs": []
    },
    {
      "cell_type": "code",
      "metadata": {
        "id": "JLUJ45DqG6zl",
        "outputId": "9857e6c0-3135-4353-ebd6-67befa7025e6",
        "colab": {
          "base_uri": "https://localhost:8080/",
          "height": 547
        }
      },
      "source": [
        "import seaborn as sns\n",
        "sns.heatmap(cor) #heatmap of Correlation matrix"
      ],
      "execution_count": null,
      "outputs": [
        {
          "output_type": "execute_result",
          "data": {
            "text/plain": [
              "<matplotlib.axes._subplots.AxesSubplot at 0x7fe0a220e7b8>"
            ]
          },
          "metadata": {
            "tags": []
          },
          "execution_count": 23
        },
        {
          "output_type": "display_data",
          "data": {
            "image/png": "[encoded data removed]",
            "text/plain": [
              "<Figure size 432x288 with 2 Axes>"
            ]
          },
          "metadata": {
            "tags": [],
            "needs_background": "light"
          }
        }
      ]
    },
    {
      "cell_type": "code",
      "metadata": {
        "id": "OvbsKE87N7H-",
        "outputId": "6393faa0-c76d-4340-e90d-968304129904",
        "colab": {
          "base_uri": "https://localhost:8080/",
          "height": 1000
        }
      },
      "source": [
        "cor"
      ],
      "execution_count": null,
      "outputs": [
        {
          "output_type": "execute_result",
          "data": {
            "text/html": [
              "<div>\n",
              "<style scoped>\n",
              "    .dataframe tbody tr th:only-of-type {\n",
              "        vertical-align: middle;\n",
              "    }\n",
              "\n",
              "    .dataframe tbody tr th {\n",
              "        vertical-align: top;\n",
              "    }\n",
              "\n",
              "    .dataframe thead th {\n",
              "        text-align: right;\n",
              "    }\n",
              "</style>\n",
              "<table border=\"1\" class=\"dataframe\">\n",
              "  <thead>\n",
              "    <tr style=\"text-align: right;\">\n",
              "      <th></th>\n",
              "      <th>User</th>\n",
              "      <th>Gender (1 =F, 0=M)</th>\n",
              "      <th>260: Star Wars: Episode IV - A New Hope (1977)</th>\n",
              "      <th>1210: Star Wars: Episode VI - Return of the Jedi (1983)</th>\n",
              "      <th>356: Forrest Gump (1994)</th>\n",
              "      <th>318: Shawshank Redemption, The (1994)</th>\n",
              "      <th>593: Silence of the Lambs, The (1991)</th>\n",
              "      <th>3578: Gladiator (2000)</th>\n",
              "      <th>1: Toy Story (1995)</th>\n",
              "      <th>2028: Saving Private Ryan (1998)</th>\n",
              "      <th>296: Pulp Fiction (1994)</th>\n",
              "      <th>1259: Stand by Me (1986)</th>\n",
              "      <th>2396: Shakespeare in Love (1998)</th>\n",
              "      <th>2916: Total Recall (1990)</th>\n",
              "      <th>780: Independence Day (ID4) (1996)</th>\n",
              "      <th>541: Blade Runner (1982)</th>\n",
              "      <th>1265: Groundhog Day (1993)</th>\n",
              "      <th>2571: Matrix, The (1999)</th>\n",
              "      <th>527: Schindler's List (1993)</th>\n",
              "      <th>2762: Sixth Sense, The (1999)</th>\n",
              "      <th>1198: Raiders of the Lost Ark (1981)</th>\n",
              "      <th>34: Babe (1995)</th>\n",
              "    </tr>\n",
              "  </thead>\n",
              "  <tbody>\n",
              "    <tr>\n",
              "      <th>User</th>\n",
              "      <td>1.000000</td>\n",
              "      <td>-6.694112e-02</td>\n",
              "      <td>0.300146</td>\n",
              "      <td>-5.919926e-01</td>\n",
              "      <td>0.193592</td>\n",
              "      <td>-0.345112</td>\n",
              "      <td>0.114701</td>\n",
              "      <td>0.242527</td>\n",
              "      <td>-0.189503</td>\n",
              "      <td>-0.119514</td>\n",
              "      <td>0.042336</td>\n",
              "      <td>0.318007</td>\n",
              "      <td>-0.239962</td>\n",
              "      <td>0.411452</td>\n",
              "      <td>-0.557796</td>\n",
              "      <td>-0.060552</td>\n",
              "      <td>0.449698</td>\n",
              "      <td>-0.368204</td>\n",
              "      <td>0.005571</td>\n",
              "      <td>-0.380684</td>\n",
              "      <td>0.172558</td>\n",
              "      <td>0.067138</td>\n",
              "    </tr>\n",
              "    <tr>\n",
              "      <th>Gender (1 =F, 0=M)</th>\n",
              "      <td>-0.066941</td>\n",
              "      <td>1.000000e+00</td>\n",
              "      <td>0.113022</td>\n",
              "      <td>5.099025e-17</td>\n",
              "      <td>0.289570</td>\n",
              "      <td>0.128037</td>\n",
              "      <td>-0.245985</td>\n",
              "      <td>0.055641</td>\n",
              "      <td>0.570232</td>\n",
              "      <td>-0.140153</td>\n",
              "      <td>0.542810</td>\n",
              "      <td>-0.192006</td>\n",
              "      <td>0.702381</td>\n",
              "      <td>-0.251061</td>\n",
              "      <td>-0.080016</td>\n",
              "      <td>0.241121</td>\n",
              "      <td>-0.219529</td>\n",
              "      <td>-0.250417</td>\n",
              "      <td>-0.327327</td>\n",
              "      <td>0.106000</td>\n",
              "      <td>-0.551485</td>\n",
              "      <td>0.487950</td>\n",
              "    </tr>\n",
              "    <tr>\n",
              "      <th>260: Star Wars: Episode IV - A New Hope (1977)</th>\n",
              "      <td>0.300146</td>\n",
              "      <td>1.130223e-01</td>\n",
              "      <td>1.000000</td>\n",
              "      <td>-2.579156e-01</td>\n",
              "      <td>-0.044065</td>\n",
              "      <td>-0.334685</td>\n",
              "      <td>-0.360439</td>\n",
              "      <td>-0.320524</td>\n",
              "      <td>-0.119005</td>\n",
              "      <td>0.057977</td>\n",
              "      <td>0.318990</td>\n",
              "      <td>-0.053300</td>\n",
              "      <td>0.230556</td>\n",
              "      <td>-0.200446</td>\n",
              "      <td>-0.750349</td>\n",
              "      <td>-0.085187</td>\n",
              "      <td>0.000000</td>\n",
              "      <td>-0.312823</td>\n",
              "      <td>0.373101</td>\n",
              "      <td>-0.614192</td>\n",
              "      <td>0.066667</td>\n",
              "      <td>0.351562</td>\n",
              "    </tr>\n",
              "    <tr>\n",
              "      <th>1210: Star Wars: Episode VI - Return of the Jedi (1983)</th>\n",
              "      <td>-0.591993</td>\n",
              "      <td>5.099025e-17</td>\n",
              "      <td>-0.257916</td>\n",
              "      <td>1.000000e+00</td>\n",
              "      <td>-0.663325</td>\n",
              "      <td>0.057767</td>\n",
              "      <td>-0.185733</td>\n",
              "      <td>-0.357295</td>\n",
              "      <td>-0.314504</td>\n",
              "      <td>-0.161615</td>\n",
              "      <td>0.037450</td>\n",
              "      <td>0.529412</td>\n",
              "      <td>0.251976</td>\n",
              "      <td>-0.245181</td>\n",
              "      <td>0.705117</td>\n",
              "      <td>-0.621034</td>\n",
              "      <td>-0.776501</td>\n",
              "      <td>0.829774</td>\n",
              "      <td>-0.714527</td>\n",
              "      <td>0.114279</td>\n",
              "      <td>0.184787</td>\n",
              "      <td>-0.419186</td>\n",
              "    </tr>\n",
              "    <tr>\n",
              "      <th>356: Forrest Gump (1994)</th>\n",
              "      <td>0.193592</td>\n",
              "      <td>2.895703e-01</td>\n",
              "      <td>-0.044065</td>\n",
              "      <td>-6.633250e-01</td>\n",
              "      <td>1.000000</td>\n",
              "      <td>-0.614940</td>\n",
              "      <td>0.139122</td>\n",
              "      <td>0.474045</td>\n",
              "      <td>0.522913</td>\n",
              "      <td>0.186989</td>\n",
              "      <td>-0.080064</td>\n",
              "      <td>0.359425</td>\n",
              "      <td>0.270295</td>\n",
              "      <td>0.852803</td>\n",
              "      <td>-0.470588</td>\n",
              "      <td>-0.157459</td>\n",
              "      <td>-0.784465</td>\n",
              "      <td>-0.390279</td>\n",
              "      <td>0.558514</td>\n",
              "      <td>-0.055048</td>\n",
              "      <td>-0.261892</td>\n",
              "      <td>-0.337862</td>\n",
              "    </tr>\n",
              "    <tr>\n",
              "      <th>318: Shawshank Redemption, The (1994)</th>\n",
              "      <td>-0.345112</td>\n",
              "      <td>1.280369e-01</td>\n",
              "      <td>-0.334685</td>\n",
              "      <td>5.776713e-02</td>\n",
              "      <td>-0.614940</td>\n",
              "      <td>1.000000</td>\n",
              "      <td>-0.071416</td>\n",
              "      <td>-0.108893</td>\n",
              "      <td>0.888523</td>\n",
              "      <td>-0.327262</td>\n",
              "      <td>0.725775</td>\n",
              "      <td>-0.120331</td>\n",
              "      <td>-0.096533</td>\n",
              "      <td>0.242536</td>\n",
              "      <td>0.407590</td>\n",
              "      <td>0.517549</td>\n",
              "      <td>0.000000</td>\n",
              "      <td>-0.018712</td>\n",
              "      <td>-0.657438</td>\n",
              "      <td>-0.379557</td>\n",
              "      <td>-0.475248</td>\n",
              "      <td>0.541736</td>\n",
              "    </tr>\n",
              "    <tr>\n",
              "      <th>593: Silence of the Lambs, The (1991)</th>\n",
              "      <td>0.114701</td>\n",
              "      <td>-2.459846e-01</td>\n",
              "      <td>-0.360439</td>\n",
              "      <td>-1.857329e-01</td>\n",
              "      <td>0.139122</td>\n",
              "      <td>-0.071416</td>\n",
              "      <td>1.000000</td>\n",
              "      <td>0.179000</td>\n",
              "      <td>-0.568258</td>\n",
              "      <td>-0.373002</td>\n",
              "      <td>-0.208514</td>\n",
              "      <td>0.395782</td>\n",
              "      <td>0.106697</td>\n",
              "      <td>-0.206021</td>\n",
              "      <td>0.345761</td>\n",
              "      <td>0.206021</td>\n",
              "      <td>0.097999</td>\n",
              "      <td>0.350763</td>\n",
              "      <td>0.436949</td>\n",
              "      <td>0.576557</td>\n",
              "      <td>0.095871</td>\n",
              "      <td>-0.482382</td>\n",
              "    </tr>\n",
              "    <tr>\n",
              "      <th>3578: Gladiator (2000)</th>\n",
              "      <td>0.242527</td>\n",
              "      <td>5.564149e-02</td>\n",
              "      <td>-0.320524</td>\n",
              "      <td>-3.572948e-01</td>\n",
              "      <td>0.474045</td>\n",
              "      <td>-0.108893</td>\n",
              "      <td>0.179000</td>\n",
              "      <td>1.000000</td>\n",
              "      <td>0.253396</td>\n",
              "      <td>-0.080508</td>\n",
              "      <td>-0.749532</td>\n",
              "      <td>0.522620</td>\n",
              "      <td>-0.845154</td>\n",
              "      <td>-0.150117</td>\n",
              "      <td>0.308162</td>\n",
              "      <td>-0.607644</td>\n",
              "      <td>-0.391077</td>\n",
              "      <td>-0.378777</td>\n",
              "      <td>-0.306938</td>\n",
              "      <td>0.191727</td>\n",
              "      <td>0.096471</td>\n",
              "      <td>-0.251259</td>\n",
              "    </tr>\n",
              "    <tr>\n",
              "      <th>1: Toy Story (1995)</th>\n",
              "      <td>-0.189503</td>\n",
              "      <td>5.702317e-01</td>\n",
              "      <td>-0.119005</td>\n",
              "      <td>-3.145044e-01</td>\n",
              "      <td>0.522913</td>\n",
              "      <td>0.888523</td>\n",
              "      <td>-0.568258</td>\n",
              "      <td>0.253396</td>\n",
              "      <td>1.000000</td>\n",
              "      <td>0.596849</td>\n",
              "      <td>0.709842</td>\n",
              "      <td>-0.610300</td>\n",
              "      <td>0.101768</td>\n",
              "      <td>0.163796</td>\n",
              "      <td>-0.069923</td>\n",
              "      <td>0.329634</td>\n",
              "      <td>-0.062858</td>\n",
              "      <td>-0.721995</td>\n",
              "      <td>-0.220315</td>\n",
              "      <td>-0.245770</td>\n",
              "      <td>-0.309067</td>\n",
              "      <td>0.811107</td>\n",
              "    </tr>\n",
              "    <tr>\n",
              "      <th>2028: Saving Private Ryan (1998)</th>\n",
              "      <td>-0.119514</td>\n",
              "      <td>-1.401530e-01</td>\n",
              "      <td>0.057977</td>\n",
              "      <td>-1.616150e-01</td>\n",
              "      <td>0.186989</td>\n",
              "      <td>-0.327262</td>\n",
              "      <td>-0.373002</td>\n",
              "      <td>-0.080508</td>\n",
              "      <td>0.596849</td>\n",
              "      <td>1.000000</td>\n",
              "      <td>-0.495415</td>\n",
              "      <td>-0.800853</td>\n",
              "      <td>-0.433224</td>\n",
              "      <td>0.204479</td>\n",
              "      <td>-0.328428</td>\n",
              "      <td>0.230769</td>\n",
              "      <td>0.338062</td>\n",
              "      <td>-0.265366</td>\n",
              "      <td>0.823529</td>\n",
              "      <td>0.026919</td>\n",
              "      <td>0.757240</td>\n",
              "      <td>0.111803</td>\n",
              "    </tr>\n",
              "    <tr>\n",
              "      <th>296: Pulp Fiction (1994)</th>\n",
              "      <td>0.042336</td>\n",
              "      <td>5.428101e-01</td>\n",
              "      <td>0.318990</td>\n",
              "      <td>3.745029e-02</td>\n",
              "      <td>-0.080064</td>\n",
              "      <td>0.725775</td>\n",
              "      <td>-0.208514</td>\n",
              "      <td>-0.749532</td>\n",
              "      <td>0.709842</td>\n",
              "      <td>-0.495415</td>\n",
              "      <td>1.000000</td>\n",
              "      <td>0.632456</td>\n",
              "      <td>0.638442</td>\n",
              "      <td>0.745356</td>\n",
              "      <td>-0.276079</td>\n",
              "      <td>-0.067267</td>\n",
              "      <td>0.016554</td>\n",
              "      <td>-0.625000</td>\n",
              "      <td>0.178542</td>\n",
              "      <td>-0.869626</td>\n",
              "      <td>-0.658513</td>\n",
              "      <td>0.563545</td>\n",
              "    </tr>\n",
              "    <tr>\n",
              "      <th>1259: Stand by Me (1986)</th>\n",
              "      <td>0.318007</td>\n",
              "      <td>-1.920061e-01</td>\n",
              "      <td>-0.053300</td>\n",
              "      <td>5.294118e-01</td>\n",
              "      <td>0.359425</td>\n",
              "      <td>-0.120331</td>\n",
              "      <td>0.395782</td>\n",
              "      <td>0.522620</td>\n",
              "      <td>-0.610300</td>\n",
              "      <td>-0.800853</td>\n",
              "      <td>0.632456</td>\n",
              "      <td>1.000000</td>\n",
              "      <td>-0.052027</td>\n",
              "      <td>-0.172631</td>\n",
              "      <td>0.074893</td>\n",
              "      <td>-0.771744</td>\n",
              "      <td>-0.531085</td>\n",
              "      <td>0.678986</td>\n",
              "      <td>-0.022997</td>\n",
              "      <td>-0.518924</td>\n",
              "      <td>0.492366</td>\n",
              "      <td>-0.892218</td>\n",
              "    </tr>\n",
              "    <tr>\n",
              "      <th>2396: Shakespeare in Love (1998)</th>\n",
              "      <td>-0.239962</td>\n",
              "      <td>7.023810e-01</td>\n",
              "      <td>0.230556</td>\n",
              "      <td>2.519763e-01</td>\n",
              "      <td>0.270295</td>\n",
              "      <td>-0.096533</td>\n",
              "      <td>0.106697</td>\n",
              "      <td>-0.845154</td>\n",
              "      <td>0.101768</td>\n",
              "      <td>-0.433224</td>\n",
              "      <td>0.638442</td>\n",
              "      <td>-0.052027</td>\n",
              "      <td>1.000000</td>\n",
              "      <td>-0.534522</td>\n",
              "      <td>0.258199</td>\n",
              "      <td>0.068199</td>\n",
              "      <td>-0.424641</td>\n",
              "      <td>-0.116586</td>\n",
              "      <td>0.239593</td>\n",
              "      <td>-0.177257</td>\n",
              "      <td>-0.522233</td>\n",
              "      <td>0.000000</td>\n",
              "    </tr>\n",
              "    <tr>\n",
              "      <th>2916: Total Recall (1990)</th>\n",
              "      <td>0.411452</td>\n",
              "      <td>-2.510610e-01</td>\n",
              "      <td>-0.200446</td>\n",
              "      <td>-2.451808e-01</td>\n",
              "      <td>0.852803</td>\n",
              "      <td>0.242536</td>\n",
              "      <td>-0.206021</td>\n",
              "      <td>-0.150117</td>\n",
              "      <td>0.163796</td>\n",
              "      <td>0.204479</td>\n",
              "      <td>0.745356</td>\n",
              "      <td>-0.172631</td>\n",
              "      <td>-0.534522</td>\n",
              "      <td>1.000000</td>\n",
              "      <td>-0.628258</td>\n",
              "      <td>-0.191741</td>\n",
              "      <td>0.732140</td>\n",
              "      <td>-0.467707</td>\n",
              "      <td>0.424643</td>\n",
              "      <td>-0.733213</td>\n",
              "      <td>-0.321798</td>\n",
              "      <td>0.373979</td>\n",
              "    </tr>\n",
              "    <tr>\n",
              "      <th>780: Independence Day (ID4) (1996)</th>\n",
              "      <td>-0.557796</td>\n",
              "      <td>-8.001600e-02</td>\n",
              "      <td>-0.750349</td>\n",
              "      <td>7.051171e-01</td>\n",
              "      <td>-0.470588</td>\n",
              "      <td>0.407590</td>\n",
              "      <td>0.345761</td>\n",
              "      <td>0.308162</td>\n",
              "      <td>-0.069923</td>\n",
              "      <td>-0.328428</td>\n",
              "      <td>-0.276079</td>\n",
              "      <td>0.074893</td>\n",
              "      <td>0.258199</td>\n",
              "      <td>-0.628258</td>\n",
              "      <td>1.000000</td>\n",
              "      <td>0.000000</td>\n",
              "      <td>-0.753247</td>\n",
              "      <td>0.083333</td>\n",
              "      <td>-0.565825</td>\n",
              "      <td>0.925881</td>\n",
              "      <td>0.451869</td>\n",
              "      <td>-0.460977</td>\n",
              "    </tr>\n",
              "    <tr>\n",
              "      <th>541: Blade Runner (1982)</th>\n",
              "      <td>-0.060552</td>\n",
              "      <td>2.411214e-01</td>\n",
              "      <td>-0.085187</td>\n",
              "      <td>-6.210344e-01</td>\n",
              "      <td>-0.157459</td>\n",
              "      <td>0.517549</td>\n",
              "      <td>0.206021</td>\n",
              "      <td>-0.607644</td>\n",
              "      <td>0.329634</td>\n",
              "      <td>0.230769</td>\n",
              "      <td>-0.067267</td>\n",
              "      <td>-0.771744</td>\n",
              "      <td>0.068199</td>\n",
              "      <td>-0.191741</td>\n",
              "      <td>0.000000</td>\n",
              "      <td>1.000000</td>\n",
              "      <td>0.045835</td>\n",
              "      <td>-0.296078</td>\n",
              "      <td>0.441248</td>\n",
              "      <td>0.093352</td>\n",
              "      <td>-0.467677</td>\n",
              "      <td>0.816497</td>\n",
              "    </tr>\n",
              "    <tr>\n",
              "      <th>1265: Groundhog Day (1993)</th>\n",
              "      <td>0.449698</td>\n",
              "      <td>-2.195285e-01</td>\n",
              "      <td>0.000000</td>\n",
              "      <td>-7.765008e-01</td>\n",
              "      <td>-0.784465</td>\n",
              "      <td>0.000000</td>\n",
              "      <td>0.097999</td>\n",
              "      <td>-0.391077</td>\n",
              "      <td>-0.062858</td>\n",
              "      <td>0.338062</td>\n",
              "      <td>0.016554</td>\n",
              "      <td>-0.531085</td>\n",
              "      <td>-0.424641</td>\n",
              "      <td>0.732140</td>\n",
              "      <td>-0.753247</td>\n",
              "      <td>0.045835</td>\n",
              "      <td>1.000000</td>\n",
              "      <td>0.123091</td>\n",
              "      <td>0.042405</td>\n",
              "      <td>0.258199</td>\n",
              "      <td>0.118262</td>\n",
              "      <td>0.567591</td>\n",
              "    </tr>\n",
              "    <tr>\n",
              "      <th>2571: Matrix, The (1999)</th>\n",
              "      <td>-0.368204</td>\n",
              "      <td>-2.504171e-01</td>\n",
              "      <td>-0.312823</td>\n",
              "      <td>8.297738e-01</td>\n",
              "      <td>-0.390279</td>\n",
              "      <td>-0.018712</td>\n",
              "      <td>0.350763</td>\n",
              "      <td>-0.378777</td>\n",
              "      <td>-0.721995</td>\n",
              "      <td>-0.265366</td>\n",
              "      <td>-0.625000</td>\n",
              "      <td>0.678986</td>\n",
              "      <td>-0.116586</td>\n",
              "      <td>-0.467707</td>\n",
              "      <td>0.083333</td>\n",
              "      <td>-0.296078</td>\n",
              "      <td>0.123091</td>\n",
              "      <td>1.000000</td>\n",
              "      <td>-0.299572</td>\n",
              "      <td>0.751558</td>\n",
              "      <td>0.183340</td>\n",
              "      <td>-0.433013</td>\n",
              "    </tr>\n",
              "    <tr>\n",
              "      <th>527: Schindler's List (1993)</th>\n",
              "      <td>0.005571</td>\n",
              "      <td>-3.273268e-01</td>\n",
              "      <td>0.373101</td>\n",
              "      <td>-7.145268e-01</td>\n",
              "      <td>0.558514</td>\n",
              "      <td>-0.657438</td>\n",
              "      <td>0.436949</td>\n",
              "      <td>-0.306938</td>\n",
              "      <td>-0.220315</td>\n",
              "      <td>0.823529</td>\n",
              "      <td>0.178542</td>\n",
              "      <td>-0.022997</td>\n",
              "      <td>0.239593</td>\n",
              "      <td>0.424643</td>\n",
              "      <td>-0.565825</td>\n",
              "      <td>0.441248</td>\n",
              "      <td>0.042405</td>\n",
              "      <td>-0.299572</td>\n",
              "      <td>1.000000</td>\n",
              "      <td>-0.336960</td>\n",
              "      <td>-0.404421</td>\n",
              "      <td>-0.606339</td>\n",
              "    </tr>\n",
              "    <tr>\n",
              "      <th>2762: Sixth Sense, The (1999)</th>\n",
              "      <td>-0.380684</td>\n",
              "      <td>1.059998e-01</td>\n",
              "      <td>-0.614192</td>\n",
              "      <td>1.142791e-01</td>\n",
              "      <td>-0.055048</td>\n",
              "      <td>-0.379557</td>\n",
              "      <td>0.576557</td>\n",
              "      <td>0.191727</td>\n",
              "      <td>-0.245770</td>\n",
              "      <td>0.026919</td>\n",
              "      <td>-0.869626</td>\n",
              "      <td>-0.518924</td>\n",
              "      <td>-0.177257</td>\n",
              "      <td>-0.733213</td>\n",
              "      <td>0.925881</td>\n",
              "      <td>0.093352</td>\n",
              "      <td>0.258199</td>\n",
              "      <td>0.751558</td>\n",
              "      <td>-0.336960</td>\n",
              "      <td>1.000000</td>\n",
              "      <td>0.369136</td>\n",
              "      <td>-0.090909</td>\n",
              "    </tr>\n",
              "    <tr>\n",
              "      <th>1198: Raiders of the Lost Ark (1981)</th>\n",
              "      <td>0.172558</td>\n",
              "      <td>-5.514855e-01</td>\n",
              "      <td>0.066667</td>\n",
              "      <td>1.847873e-01</td>\n",
              "      <td>-0.261892</td>\n",
              "      <td>-0.475248</td>\n",
              "      <td>0.095871</td>\n",
              "      <td>0.096471</td>\n",
              "      <td>-0.309067</td>\n",
              "      <td>0.757240</td>\n",
              "      <td>-0.658513</td>\n",
              "      <td>0.492366</td>\n",
              "      <td>-0.522233</td>\n",
              "      <td>-0.321798</td>\n",
              "      <td>0.451869</td>\n",
              "      <td>-0.467677</td>\n",
              "      <td>0.118262</td>\n",
              "      <td>0.183340</td>\n",
              "      <td>-0.404421</td>\n",
              "      <td>0.369136</td>\n",
              "      <td>1.000000</td>\n",
              "      <td>-0.315104</td>\n",
              "    </tr>\n",
              "    <tr>\n",
              "      <th>34: Babe (1995)</th>\n",
              "      <td>0.067138</td>\n",
              "      <td>4.879500e-01</td>\n",
              "      <td>0.351562</td>\n",
              "      <td>-4.191864e-01</td>\n",
              "      <td>-0.337862</td>\n",
              "      <td>0.541736</td>\n",
              "      <td>-0.482382</td>\n",
              "      <td>-0.251259</td>\n",
              "      <td>0.811107</td>\n",
              "      <td>0.111803</td>\n",
              "      <td>0.563545</td>\n",
              "      <td>-0.892218</td>\n",
              "      <td>0.000000</td>\n",
              "      <td>0.373979</td>\n",
              "      <td>-0.460977</td>\n",
              "      <td>0.816497</td>\n",
              "      <td>0.567591</td>\n",
              "      <td>-0.433013</td>\n",
              "      <td>-0.606339</td>\n",
              "      <td>-0.090909</td>\n",
              "      <td>-0.315104</td>\n",
              "      <td>1.000000</td>\n",
              "    </tr>\n",
              "  </tbody>\n",
              "</table>\n",
              "</div>"
            ],
            "text/plain": [
              "                                                        User  ...  34: Babe (1995)\n",
              "User                                                1.000000  ...         0.067138\n",
              "Gender (1 =F, 0=M)                                 -0.066941  ...         0.487950\n",
              "260: Star Wars: Episode IV - A New Hope (1977)      0.300146  ...         0.351562\n",
              "1210: Star Wars: Episode VI - Return of the Jed... -0.591993  ...        -0.419186\n",
              "356: Forrest Gump (1994)                            0.193592  ...        -0.337862\n",
              "318: Shawshank Redemption, The (1994)              -0.345112  ...         0.541736\n",
              "593: Silence of the Lambs, The (1991)               0.114701  ...        -0.482382\n",
              "3578: Gladiator (2000)                              0.242527  ...        -0.251259\n",
              "1: Toy Story (1995)                                -0.189503  ...         0.811107\n",
              "2028: Saving Private Ryan (1998)                   -0.119514  ...         0.111803\n",
              "296: Pulp Fiction (1994)                            0.042336  ...         0.563545\n",
              "1259: Stand by Me (1986)                            0.318007  ...        -0.892218\n",
              "2396: Shakespeare in Love (1998)                   -0.239962  ...         0.000000\n",
              "2916: Total Recall (1990)                           0.411452  ...         0.373979\n",
              "780: Independence Day (ID4) (1996)                 -0.557796  ...        -0.460977\n",
              "541: Blade Runner (1982)                           -0.060552  ...         0.816497\n",
              "1265: Groundhog Day (1993)                          0.449698  ...         0.567591\n",
              "2571: Matrix, The (1999)                           -0.368204  ...        -0.433013\n",
              "527: Schindler's List (1993)                        0.005571  ...        -0.606339\n",
              "2762: Sixth Sense, The (1999)                      -0.380684  ...        -0.090909\n",
              "1198: Raiders of the Lost Ark (1981)                0.172558  ...        -0.315104\n",
              "34: Babe (1995)                                     0.067138  ...         1.000000\n",
              "\n",
              "[22 rows x 22 columns]"
            ]
          },
          "metadata": {
            "tags": []
          },
          "execution_count": 24
        }
      ]
    },
    {
      "cell_type": "code",
      "metadata": {
        "id": "GF4kHCF1O3DZ",
        "outputId": "cc0dca1b-be35-44d7-ef26-ee8c5c955fea",
        "colab": {
          "base_uri": "https://localhost:8080/",
          "height": 282
        }
      },
      "source": [
        "plt.scatter(df['1: Toy Story (1995)'].values,df['2571: Matrix, The (1999)'].values)"
      ],
      "execution_count": null,
      "outputs": [
        {
          "output_type": "execute_result",
          "data": {
            "text/plain": [
              "<matplotlib.collections.PathCollection at 0x7fe09dbeccf8>"
            ]
          },
          "metadata": {
            "tags": []
          },
          "execution_count": 25
        },
        {
          "output_type": "display_data",
          "data": {
            "image/png": "[encoded data removed]",
            "text/plain": [
              "<Figure size 432x288 with 1 Axes>"
            ]
          },
          "metadata": {
            "tags": [],
            "needs_background": "light"
          }
        }
      ]
    },
    {
      "cell_type": "code",
      "metadata": {
        "id": "o1WsMN95PzeJ",
        "outputId": "7d9dc176-2804-44a8-ad46-7d326b8c57c1",
        "colab": {
          "base_uri": "https://localhost:8080/",
          "height": 403
        }
      },
      "source": [
        "cor['1: Toy Story (1995)']#Correlation with Toy Story"
      ],
      "execution_count": null,
      "outputs": [
        {
          "output_type": "execute_result",
          "data": {
            "text/plain": [
              "User                                                      -0.189503\n",
              "Gender (1 =F, 0=M)                                         0.570232\n",
              "260: Star Wars: Episode IV - A New Hope (1977)            -0.119005\n",
              "1210: Star Wars: Episode VI - Return of the Jedi (1983)   -0.314504\n",
              "356: Forrest Gump (1994)                                   0.522913\n",
              "318: Shawshank Redemption, The (1994)                      0.888523\n",
              "593: Silence of the Lambs, The (1991)                     -0.568258\n",
              "3578: Gladiator (2000)                                     0.253396\n",
              "1: Toy Story (1995)                                        1.000000\n",
              "2028: Saving Private Ryan (1998)                           0.596849\n",
              "296: Pulp Fiction (1994)                                   0.709842\n",
              "1259: Stand by Me (1986)                                  -0.610300\n",
              "2396: Shakespeare in Love (1998)                           0.101768\n",
              "2916: Total Recall (1990)                                  0.163796\n",
              "780: Independence Day (ID4) (1996)                        -0.069923\n",
              "541: Blade Runner (1982)                                   0.329634\n",
              "1265: Groundhog Day (1993)                                -0.062858\n",
              "2571: Matrix, The (1999)                                  -0.721995\n",
              "527: Schindler's List (1993)                              -0.220315\n",
              "2762: Sixth Sense, The (1999)                             -0.245770\n",
              "1198: Raiders of the Lost Ark (1981)                      -0.309067\n",
              "34: Babe (1995)                                            0.811107\n",
              "Name: 1: Toy Story (1995), dtype: float64"
            ]
          },
          "metadata": {
            "tags": []
          },
          "execution_count": 26
        }
      ]
    },
    {
      "cell_type": "code",
      "metadata": {
        "id": "XC7EXM4xTD-2",
        "outputId": "6b331d2a-62bd-4d51-ceaf-070e7c630255",
        "colab": {
          "base_uri": "https://localhost:8080/",
          "height": 794
        }
      },
      "source": [
        "df"
      ],
      "execution_count": null,
      "outputs": [
        {
          "output_type": "execute_result",
          "data": {
            "text/html": [
              "<div>\n",
              "<style scoped>\n",
              "    .dataframe tbody tr th:only-of-type {\n",
              "        vertical-align: middle;\n",
              "    }\n",
              "\n",
              "    .dataframe tbody tr th {\n",
              "        vertical-align: top;\n",
              "    }\n",
              "\n",
              "    .dataframe thead th {\n",
              "        text-align: right;\n",
              "    }\n",
              "</style>\n",
              "<table border=\"1\" class=\"dataframe\">\n",
              "  <thead>\n",
              "    <tr style=\"text-align: right;\">\n",
              "      <th></th>\n",
              "      <th>User</th>\n",
              "      <th>Gender (1 =F, 0=M)</th>\n",
              "      <th>260: Star Wars: Episode IV - A New Hope (1977)</th>\n",
              "      <th>1210: Star Wars: Episode VI - Return of the Jedi (1983)</th>\n",
              "      <th>356: Forrest Gump (1994)</th>\n",
              "      <th>318: Shawshank Redemption, The (1994)</th>\n",
              "      <th>593: Silence of the Lambs, The (1991)</th>\n",
              "      <th>3578: Gladiator (2000)</th>\n",
              "      <th>1: Toy Story (1995)</th>\n",
              "      <th>2028: Saving Private Ryan (1998)</th>\n",
              "      <th>296: Pulp Fiction (1994)</th>\n",
              "      <th>1259: Stand by Me (1986)</th>\n",
              "      <th>2396: Shakespeare in Love (1998)</th>\n",
              "      <th>2916: Total Recall (1990)</th>\n",
              "      <th>780: Independence Day (ID4) (1996)</th>\n",
              "      <th>541: Blade Runner (1982)</th>\n",
              "      <th>1265: Groundhog Day (1993)</th>\n",
              "      <th>2571: Matrix, The (1999)</th>\n",
              "      <th>527: Schindler's List (1993)</th>\n",
              "      <th>2762: Sixth Sense, The (1999)</th>\n",
              "      <th>1198: Raiders of the Lost Ark (1981)</th>\n",
              "      <th>34: Babe (1995)</th>\n",
              "    </tr>\n",
              "  </thead>\n",
              "  <tbody>\n",
              "    <tr>\n",
              "      <th>0</th>\n",
              "      <td>755</td>\n",
              "      <td>0</td>\n",
              "      <td>1.0</td>\n",
              "      <td>5.0</td>\n",
              "      <td>2.0</td>\n",
              "      <td>NaN</td>\n",
              "      <td>4.0</td>\n",
              "      <td>4.0</td>\n",
              "      <td>2.0</td>\n",
              "      <td>2.0</td>\n",
              "      <td>NaN</td>\n",
              "      <td>3.0</td>\n",
              "      <td>2.0</td>\n",
              "      <td>NaN</td>\n",
              "      <td>5.0</td>\n",
              "      <td>2.0</td>\n",
              "      <td>NaN</td>\n",
              "      <td>4.0</td>\n",
              "      <td>2.0</td>\n",
              "      <td>5.0</td>\n",
              "      <td>NaN</td>\n",
              "      <td>NaN</td>\n",
              "    </tr>\n",
              "    <tr>\n",
              "      <th>1</th>\n",
              "      <td>5277</td>\n",
              "      <td>0</td>\n",
              "      <td>5.0</td>\n",
              "      <td>3.0</td>\n",
              "      <td>NaN</td>\n",
              "      <td>2.0</td>\n",
              "      <td>4.0</td>\n",
              "      <td>2.0</td>\n",
              "      <td>1.0</td>\n",
              "      <td>NaN</td>\n",
              "      <td>NaN</td>\n",
              "      <td>4.0</td>\n",
              "      <td>3.0</td>\n",
              "      <td>2.0</td>\n",
              "      <td>2.0</td>\n",
              "      <td>NaN</td>\n",
              "      <td>2.0</td>\n",
              "      <td>NaN</td>\n",
              "      <td>5.0</td>\n",
              "      <td>1.0</td>\n",
              "      <td>3.0</td>\n",
              "      <td>NaN</td>\n",
              "    </tr>\n",
              "    <tr>\n",
              "      <th>2</th>\n",
              "      <td>1577</td>\n",
              "      <td>1</td>\n",
              "      <td>NaN</td>\n",
              "      <td>NaN</td>\n",
              "      <td>NaN</td>\n",
              "      <td>5.0</td>\n",
              "      <td>2.0</td>\n",
              "      <td>NaN</td>\n",
              "      <td>4.0</td>\n",
              "      <td>NaN</td>\n",
              "      <td>NaN</td>\n",
              "      <td>1.0</td>\n",
              "      <td>NaN</td>\n",
              "      <td>1.0</td>\n",
              "      <td>4.0</td>\n",
              "      <td>4.0</td>\n",
              "      <td>1.0</td>\n",
              "      <td>1.0</td>\n",
              "      <td>2.0</td>\n",
              "      <td>3.0</td>\n",
              "      <td>1.0</td>\n",
              "      <td>3.0</td>\n",
              "    </tr>\n",
              "    <tr>\n",
              "      <th>3</th>\n",
              "      <td>4388</td>\n",
              "      <td>0</td>\n",
              "      <td>NaN</td>\n",
              "      <td>3.0</td>\n",
              "      <td>NaN</td>\n",
              "      <td>NaN</td>\n",
              "      <td>NaN</td>\n",
              "      <td>1.0</td>\n",
              "      <td>2.0</td>\n",
              "      <td>3.0</td>\n",
              "      <td>4.0</td>\n",
              "      <td>NaN</td>\n",
              "      <td>NaN</td>\n",
              "      <td>4.0</td>\n",
              "      <td>1.0</td>\n",
              "      <td>3.0</td>\n",
              "      <td>5.0</td>\n",
              "      <td>NaN</td>\n",
              "      <td>5.0</td>\n",
              "      <td>1.0</td>\n",
              "      <td>1.0</td>\n",
              "      <td>2.0</td>\n",
              "    </tr>\n",
              "    <tr>\n",
              "      <th>4</th>\n",
              "      <td>1202</td>\n",
              "      <td>1</td>\n",
              "      <td>4.0</td>\n",
              "      <td>3.0</td>\n",
              "      <td>4.0</td>\n",
              "      <td>1.0</td>\n",
              "      <td>4.0</td>\n",
              "      <td>1.0</td>\n",
              "      <td>NaN</td>\n",
              "      <td>4.0</td>\n",
              "      <td>NaN</td>\n",
              "      <td>1.0</td>\n",
              "      <td>5.0</td>\n",
              "      <td>1.0</td>\n",
              "      <td>NaN</td>\n",
              "      <td>4.0</td>\n",
              "      <td>NaN</td>\n",
              "      <td>3.0</td>\n",
              "      <td>5.0</td>\n",
              "      <td>5.0</td>\n",
              "      <td>NaN</td>\n",
              "      <td>NaN</td>\n",
              "    </tr>\n",
              "    <tr>\n",
              "      <th>5</th>\n",
              "      <td>3823</td>\n",
              "      <td>1</td>\n",
              "      <td>2.0</td>\n",
              "      <td>4.0</td>\n",
              "      <td>4.0</td>\n",
              "      <td>4.0</td>\n",
              "      <td>NaN</td>\n",
              "      <td>NaN</td>\n",
              "      <td>3.0</td>\n",
              "      <td>1.0</td>\n",
              "      <td>4.0</td>\n",
              "      <td>4.0</td>\n",
              "      <td>5.0</td>\n",
              "      <td>2.0</td>\n",
              "      <td>4.0</td>\n",
              "      <td>NaN</td>\n",
              "      <td>1.0</td>\n",
              "      <td>NaN</td>\n",
              "      <td>NaN</td>\n",
              "      <td>3.0</td>\n",
              "      <td>NaN</td>\n",
              "      <td>2.0</td>\n",
              "    </tr>\n",
              "    <tr>\n",
              "      <th>6</th>\n",
              "      <td>5448</td>\n",
              "      <td>0</td>\n",
              "      <td>NaN</td>\n",
              "      <td>NaN</td>\n",
              "      <td>3.0</td>\n",
              "      <td>1.0</td>\n",
              "      <td>1.0</td>\n",
              "      <td>4.0</td>\n",
              "      <td>NaN</td>\n",
              "      <td>5.0</td>\n",
              "      <td>2.0</td>\n",
              "      <td>NaN</td>\n",
              "      <td>1.0</td>\n",
              "      <td>NaN</td>\n",
              "      <td>NaN</td>\n",
              "      <td>3.0</td>\n",
              "      <td>NaN</td>\n",
              "      <td>1.0</td>\n",
              "      <td>NaN</td>\n",
              "      <td>NaN</td>\n",
              "      <td>5.0</td>\n",
              "      <td>2.0</td>\n",
              "    </tr>\n",
              "    <tr>\n",
              "      <th>7</th>\n",
              "      <td>5347</td>\n",
              "      <td>0</td>\n",
              "      <td>4.0</td>\n",
              "      <td>NaN</td>\n",
              "      <td>NaN</td>\n",
              "      <td>NaN</td>\n",
              "      <td>3.0</td>\n",
              "      <td>2.0</td>\n",
              "      <td>2.0</td>\n",
              "      <td>NaN</td>\n",
              "      <td>3.0</td>\n",
              "      <td>NaN</td>\n",
              "      <td>NaN</td>\n",
              "      <td>2.0</td>\n",
              "      <td>3.0</td>\n",
              "      <td>2.0</td>\n",
              "      <td>4.0</td>\n",
              "      <td>NaN</td>\n",
              "      <td>1.0</td>\n",
              "      <td>3.0</td>\n",
              "      <td>5.0</td>\n",
              "      <td>NaN</td>\n",
              "    </tr>\n",
              "    <tr>\n",
              "      <th>8</th>\n",
              "      <td>4117</td>\n",
              "      <td>1</td>\n",
              "      <td>5.0</td>\n",
              "      <td>1.0</td>\n",
              "      <td>NaN</td>\n",
              "      <td>4.0</td>\n",
              "      <td>2.0</td>\n",
              "      <td>4.0</td>\n",
              "      <td>4.0</td>\n",
              "      <td>4.0</td>\n",
              "      <td>NaN</td>\n",
              "      <td>1.0</td>\n",
              "      <td>2.0</td>\n",
              "      <td>3.0</td>\n",
              "      <td>1.0</td>\n",
              "      <td>NaN</td>\n",
              "      <td>5.0</td>\n",
              "      <td>NaN</td>\n",
              "      <td>NaN</td>\n",
              "      <td>NaN</td>\n",
              "      <td>NaN</td>\n",
              "      <td>5.0</td>\n",
              "    </tr>\n",
              "    <tr>\n",
              "      <th>9</th>\n",
              "      <td>2765</td>\n",
              "      <td>0</td>\n",
              "      <td>4.0</td>\n",
              "      <td>2.0</td>\n",
              "      <td>NaN</td>\n",
              "      <td>5.0</td>\n",
              "      <td>3.0</td>\n",
              "      <td>NaN</td>\n",
              "      <td>4.0</td>\n",
              "      <td>3.0</td>\n",
              "      <td>4.0</td>\n",
              "      <td>NaN</td>\n",
              "      <td>NaN</td>\n",
              "      <td>NaN</td>\n",
              "      <td>2.0</td>\n",
              "      <td>NaN</td>\n",
              "      <td>NaN</td>\n",
              "      <td>2.0</td>\n",
              "      <td>5.0</td>\n",
              "      <td>1.0</td>\n",
              "      <td>NaN</td>\n",
              "      <td>NaN</td>\n",
              "    </tr>\n",
              "    <tr>\n",
              "      <th>10</th>\n",
              "      <td>5450</td>\n",
              "      <td>1</td>\n",
              "      <td>2.0</td>\n",
              "      <td>1.0</td>\n",
              "      <td>5.0</td>\n",
              "      <td>NaN</td>\n",
              "      <td>NaN</td>\n",
              "      <td>5.0</td>\n",
              "      <td>5.0</td>\n",
              "      <td>NaN</td>\n",
              "      <td>NaN</td>\n",
              "      <td>NaN</td>\n",
              "      <td>NaN</td>\n",
              "      <td>3.0</td>\n",
              "      <td>2.0</td>\n",
              "      <td>NaN</td>\n",
              "      <td>NaN</td>\n",
              "      <td>1.0</td>\n",
              "      <td>NaN</td>\n",
              "      <td>2.0</td>\n",
              "      <td>1.0</td>\n",
              "      <td>4.0</td>\n",
              "    </tr>\n",
              "    <tr>\n",
              "      <th>11</th>\n",
              "      <td>139</td>\n",
              "      <td>0</td>\n",
              "      <td>3.0</td>\n",
              "      <td>5.0</td>\n",
              "      <td>2.0</td>\n",
              "      <td>NaN</td>\n",
              "      <td>2.0</td>\n",
              "      <td>NaN</td>\n",
              "      <td>2.0</td>\n",
              "      <td>NaN</td>\n",
              "      <td>1.0</td>\n",
              "      <td>NaN</td>\n",
              "      <td>3.0</td>\n",
              "      <td>NaN</td>\n",
              "      <td>3.0</td>\n",
              "      <td>NaN</td>\n",
              "      <td>2.0</td>\n",
              "      <td>5.0</td>\n",
              "      <td>NaN</td>\n",
              "      <td>NaN</td>\n",
              "      <td>NaN</td>\n",
              "      <td>2.0</td>\n",
              "    </tr>\n",
              "    <tr>\n",
              "      <th>12</th>\n",
              "      <td>1940</td>\n",
              "      <td>0</td>\n",
              "      <td>2.0</td>\n",
              "      <td>3.0</td>\n",
              "      <td>NaN</td>\n",
              "      <td>5.0</td>\n",
              "      <td>4.0</td>\n",
              "      <td>NaN</td>\n",
              "      <td>4.0</td>\n",
              "      <td>5.0</td>\n",
              "      <td>NaN</td>\n",
              "      <td>NaN</td>\n",
              "      <td>NaN</td>\n",
              "      <td>2.0</td>\n",
              "      <td>4.0</td>\n",
              "      <td>NaN</td>\n",
              "      <td>3.0</td>\n",
              "      <td>NaN</td>\n",
              "      <td>NaN</td>\n",
              "      <td>NaN</td>\n",
              "      <td>5.0</td>\n",
              "      <td>NaN</td>\n",
              "    </tr>\n",
              "    <tr>\n",
              "      <th>13</th>\n",
              "      <td>3118</td>\n",
              "      <td>1</td>\n",
              "      <td>3.0</td>\n",
              "      <td>NaN</td>\n",
              "      <td>3.0</td>\n",
              "      <td>NaN</td>\n",
              "      <td>2.0</td>\n",
              "      <td>NaN</td>\n",
              "      <td>3.0</td>\n",
              "      <td>NaN</td>\n",
              "      <td>NaN</td>\n",
              "      <td>4.0</td>\n",
              "      <td>NaN</td>\n",
              "      <td>1.0</td>\n",
              "      <td>2.0</td>\n",
              "      <td>2.0</td>\n",
              "      <td>3.0</td>\n",
              "      <td>5.0</td>\n",
              "      <td>1.0</td>\n",
              "      <td>NaN</td>\n",
              "      <td>NaN</td>\n",
              "      <td>NaN</td>\n",
              "    </tr>\n",
              "    <tr>\n",
              "      <th>14</th>\n",
              "      <td>4656</td>\n",
              "      <td>1</td>\n",
              "      <td>4.0</td>\n",
              "      <td>4.0</td>\n",
              "      <td>NaN</td>\n",
              "      <td>NaN</td>\n",
              "      <td>5.0</td>\n",
              "      <td>5.0</td>\n",
              "      <td>2.0</td>\n",
              "      <td>NaN</td>\n",
              "      <td>3.0</td>\n",
              "      <td>5.0</td>\n",
              "      <td>NaN</td>\n",
              "      <td>1.0</td>\n",
              "      <td>3.0</td>\n",
              "      <td>NaN</td>\n",
              "      <td>2.0</td>\n",
              "      <td>NaN</td>\n",
              "      <td>3.0</td>\n",
              "      <td>NaN</td>\n",
              "      <td>3.0</td>\n",
              "      <td>1.0</td>\n",
              "    </tr>\n",
              "    <tr>\n",
              "      <th>15</th>\n",
              "      <td>4796</td>\n",
              "      <td>1</td>\n",
              "      <td>NaN</td>\n",
              "      <td>NaN</td>\n",
              "      <td>1.0</td>\n",
              "      <td>NaN</td>\n",
              "      <td>3.0</td>\n",
              "      <td>2.0</td>\n",
              "      <td>NaN</td>\n",
              "      <td>2.0</td>\n",
              "      <td>NaN</td>\n",
              "      <td>1.0</td>\n",
              "      <td>5.0</td>\n",
              "      <td>NaN</td>\n",
              "      <td>NaN</td>\n",
              "      <td>NaN</td>\n",
              "      <td>5.0</td>\n",
              "      <td>2.0</td>\n",
              "      <td>2.0</td>\n",
              "      <td>4.0</td>\n",
              "      <td>3.0</td>\n",
              "      <td>4.0</td>\n",
              "    </tr>\n",
              "    <tr>\n",
              "      <th>16</th>\n",
              "      <td>6037</td>\n",
              "      <td>0</td>\n",
              "      <td>NaN</td>\n",
              "      <td>NaN</td>\n",
              "      <td>NaN</td>\n",
              "      <td>NaN</td>\n",
              "      <td>4.0</td>\n",
              "      <td>NaN</td>\n",
              "      <td>2.0</td>\n",
              "      <td>NaN</td>\n",
              "      <td>2.0</td>\n",
              "      <td>NaN</td>\n",
              "      <td>2.0</td>\n",
              "      <td>NaN</td>\n",
              "      <td>NaN</td>\n",
              "      <td>NaN</td>\n",
              "      <td>NaN</td>\n",
              "      <td>4.0</td>\n",
              "      <td>NaN</td>\n",
              "      <td>NaN</td>\n",
              "      <td>NaN</td>\n",
              "      <td>NaN</td>\n",
              "    </tr>\n",
              "    <tr>\n",
              "      <th>17</th>\n",
              "      <td>3048</td>\n",
              "      <td>1</td>\n",
              "      <td>4.0</td>\n",
              "      <td>5.0</td>\n",
              "      <td>1.0</td>\n",
              "      <td>5.0</td>\n",
              "      <td>1.0</td>\n",
              "      <td>1.0</td>\n",
              "      <td>4.0</td>\n",
              "      <td>NaN</td>\n",
              "      <td>5.0</td>\n",
              "      <td>NaN</td>\n",
              "      <td>NaN</td>\n",
              "      <td>NaN</td>\n",
              "      <td>NaN</td>\n",
              "      <td>4.0</td>\n",
              "      <td>NaN</td>\n",
              "      <td>NaN</td>\n",
              "      <td>2.0</td>\n",
              "      <td>1.0</td>\n",
              "      <td>2.0</td>\n",
              "      <td>5.0</td>\n",
              "    </tr>\n",
              "    <tr>\n",
              "      <th>18</th>\n",
              "      <td>4790</td>\n",
              "      <td>0</td>\n",
              "      <td>5.0</td>\n",
              "      <td>1.0</td>\n",
              "      <td>NaN</td>\n",
              "      <td>NaN</td>\n",
              "      <td>NaN</td>\n",
              "      <td>4.0</td>\n",
              "      <td>2.0</td>\n",
              "      <td>1.0</td>\n",
              "      <td>3.0</td>\n",
              "      <td>3.0</td>\n",
              "      <td>3.0</td>\n",
              "      <td>1.0</td>\n",
              "      <td>NaN</td>\n",
              "      <td>NaN</td>\n",
              "      <td>NaN</td>\n",
              "      <td>2.0</td>\n",
              "      <td>NaN</td>\n",
              "      <td>NaN</td>\n",
              "      <td>NaN</td>\n",
              "      <td>NaN</td>\n",
              "    </tr>\n",
              "    <tr>\n",
              "      <th>19</th>\n",
              "      <td>4489</td>\n",
              "      <td>0</td>\n",
              "      <td>1.0</td>\n",
              "      <td>2.0</td>\n",
              "      <td>2.0</td>\n",
              "      <td>4.0</td>\n",
              "      <td>5.0</td>\n",
              "      <td>NaN</td>\n",
              "      <td>2.0</td>\n",
              "      <td>3.0</td>\n",
              "      <td>2.0</td>\n",
              "      <td>2.0</td>\n",
              "      <td>1.0</td>\n",
              "      <td>NaN</td>\n",
              "      <td>NaN</td>\n",
              "      <td>5.0</td>\n",
              "      <td>5.0</td>\n",
              "      <td>4.0</td>\n",
              "      <td>3.0</td>\n",
              "      <td>5.0</td>\n",
              "      <td>3.0</td>\n",
              "      <td>NaN</td>\n",
              "    </tr>\n",
              "  </tbody>\n",
              "</table>\n",
              "</div>"
            ],
            "text/plain": [
              "    User  ...  34: Babe (1995)\n",
              "0    755  ...              NaN\n",
              "1   5277  ...              NaN\n",
              "2   1577  ...              3.0\n",
              "3   4388  ...              2.0\n",
              "4   1202  ...              NaN\n",
              "5   3823  ...              2.0\n",
              "6   5448  ...              2.0\n",
              "7   5347  ...              NaN\n",
              "8   4117  ...              5.0\n",
              "9   2765  ...              NaN\n",
              "10  5450  ...              4.0\n",
              "11   139  ...              2.0\n",
              "12  1940  ...              NaN\n",
              "13  3118  ...              NaN\n",
              "14  4656  ...              1.0\n",
              "15  4796  ...              4.0\n",
              "16  6037  ...              NaN\n",
              "17  3048  ...              5.0\n",
              "18  4790  ...              NaN\n",
              "19  4489  ...              NaN\n",
              "\n",
              "[20 rows x 22 columns]"
            ]
          },
          "metadata": {
            "tags": []
          },
          "execution_count": 27
        }
      ]
    },
    {
      "cell_type": "code",
      "metadata": {
        "id": "7n9HVzVQULEZ"
      },
      "source": [
        "df3 = df[df['Gender (1 =F, 0=M)']==0].iloc[:,2:]# dataset of movie ratin only contain male"
      ],
      "execution_count": null,
      "outputs": []
    },
    {
      "cell_type": "code",
      "metadata": {
        "id": "m8ru4Mb2WJnb",
        "outputId": "7d54b518-577b-4319-e126-e29313432409",
        "colab": {
          "base_uri": "https://localhost:8080/",
          "height": 527
        }
      },
      "source": [
        "df3"
      ],
      "execution_count": null,
      "outputs": [
        {
          "output_type": "execute_result",
          "data": {
            "text/html": [
              "<div>\n",
              "<style scoped>\n",
              "    .dataframe tbody tr th:only-of-type {\n",
              "        vertical-align: middle;\n",
              "    }\n",
              "\n",
              "    .dataframe tbody tr th {\n",
              "        vertical-align: top;\n",
              "    }\n",
              "\n",
              "    .dataframe thead th {\n",
              "        text-align: right;\n",
              "    }\n",
              "</style>\n",
              "<table border=\"1\" class=\"dataframe\">\n",
              "  <thead>\n",
              "    <tr style=\"text-align: right;\">\n",
              "      <th></th>\n",
              "      <th>260: Star Wars: Episode IV - A New Hope (1977)</th>\n",
              "      <th>1210: Star Wars: Episode VI - Return of the Jedi (1983)</th>\n",
              "      <th>356: Forrest Gump (1994)</th>\n",
              "      <th>318: Shawshank Redemption, The (1994)</th>\n",
              "      <th>593: Silence of the Lambs, The (1991)</th>\n",
              "      <th>3578: Gladiator (2000)</th>\n",
              "      <th>1: Toy Story (1995)</th>\n",
              "      <th>2028: Saving Private Ryan (1998)</th>\n",
              "      <th>296: Pulp Fiction (1994)</th>\n",
              "      <th>1259: Stand by Me (1986)</th>\n",
              "      <th>2396: Shakespeare in Love (1998)</th>\n",
              "      <th>2916: Total Recall (1990)</th>\n",
              "      <th>780: Independence Day (ID4) (1996)</th>\n",
              "      <th>541: Blade Runner (1982)</th>\n",
              "      <th>1265: Groundhog Day (1993)</th>\n",
              "      <th>2571: Matrix, The (1999)</th>\n",
              "      <th>527: Schindler's List (1993)</th>\n",
              "      <th>2762: Sixth Sense, The (1999)</th>\n",
              "      <th>1198: Raiders of the Lost Ark (1981)</th>\n",
              "      <th>34: Babe (1995)</th>\n",
              "    </tr>\n",
              "  </thead>\n",
              "  <tbody>\n",
              "    <tr>\n",
              "      <th>0</th>\n",
              "      <td>1.0</td>\n",
              "      <td>5.0</td>\n",
              "      <td>2.0</td>\n",
              "      <td>NaN</td>\n",
              "      <td>4.0</td>\n",
              "      <td>4.0</td>\n",
              "      <td>2.0</td>\n",
              "      <td>2.0</td>\n",
              "      <td>NaN</td>\n",
              "      <td>3.0</td>\n",
              "      <td>2.0</td>\n",
              "      <td>NaN</td>\n",
              "      <td>5.0</td>\n",
              "      <td>2.0</td>\n",
              "      <td>NaN</td>\n",
              "      <td>4.0</td>\n",
              "      <td>2.0</td>\n",
              "      <td>5.0</td>\n",
              "      <td>NaN</td>\n",
              "      <td>NaN</td>\n",
              "    </tr>\n",
              "    <tr>\n",
              "      <th>1</th>\n",
              "      <td>5.0</td>\n",
              "      <td>3.0</td>\n",
              "      <td>NaN</td>\n",
              "      <td>2.0</td>\n",
              "      <td>4.0</td>\n",
              "      <td>2.0</td>\n",
              "      <td>1.0</td>\n",
              "      <td>NaN</td>\n",
              "      <td>NaN</td>\n",
              "      <td>4.0</td>\n",
              "      <td>3.0</td>\n",
              "      <td>2.0</td>\n",
              "      <td>2.0</td>\n",
              "      <td>NaN</td>\n",
              "      <td>2.0</td>\n",
              "      <td>NaN</td>\n",
              "      <td>5.0</td>\n",
              "      <td>1.0</td>\n",
              "      <td>3.0</td>\n",
              "      <td>NaN</td>\n",
              "    </tr>\n",
              "    <tr>\n",
              "      <th>3</th>\n",
              "      <td>NaN</td>\n",
              "      <td>3.0</td>\n",
              "      <td>NaN</td>\n",
              "      <td>NaN</td>\n",
              "      <td>NaN</td>\n",
              "      <td>1.0</td>\n",
              "      <td>2.0</td>\n",
              "      <td>3.0</td>\n",
              "      <td>4.0</td>\n",
              "      <td>NaN</td>\n",
              "      <td>NaN</td>\n",
              "      <td>4.0</td>\n",
              "      <td>1.0</td>\n",
              "      <td>3.0</td>\n",
              "      <td>5.0</td>\n",
              "      <td>NaN</td>\n",
              "      <td>5.0</td>\n",
              "      <td>1.0</td>\n",
              "      <td>1.0</td>\n",
              "      <td>2.0</td>\n",
              "    </tr>\n",
              "    <tr>\n",
              "      <th>6</th>\n",
              "      <td>NaN</td>\n",
              "      <td>NaN</td>\n",
              "      <td>3.0</td>\n",
              "      <td>1.0</td>\n",
              "      <td>1.0</td>\n",
              "      <td>4.0</td>\n",
              "      <td>NaN</td>\n",
              "      <td>5.0</td>\n",
              "      <td>2.0</td>\n",
              "      <td>NaN</td>\n",
              "      <td>1.0</td>\n",
              "      <td>NaN</td>\n",
              "      <td>NaN</td>\n",
              "      <td>3.0</td>\n",
              "      <td>NaN</td>\n",
              "      <td>1.0</td>\n",
              "      <td>NaN</td>\n",
              "      <td>NaN</td>\n",
              "      <td>5.0</td>\n",
              "      <td>2.0</td>\n",
              "    </tr>\n",
              "    <tr>\n",
              "      <th>7</th>\n",
              "      <td>4.0</td>\n",
              "      <td>NaN</td>\n",
              "      <td>NaN</td>\n",
              "      <td>NaN</td>\n",
              "      <td>3.0</td>\n",
              "      <td>2.0</td>\n",
              "      <td>2.0</td>\n",
              "      <td>NaN</td>\n",
              "      <td>3.0</td>\n",
              "      <td>NaN</td>\n",
              "      <td>NaN</td>\n",
              "      <td>2.0</td>\n",
              "      <td>3.0</td>\n",
              "      <td>2.0</td>\n",
              "      <td>4.0</td>\n",
              "      <td>NaN</td>\n",
              "      <td>1.0</td>\n",
              "      <td>3.0</td>\n",
              "      <td>5.0</td>\n",
              "      <td>NaN</td>\n",
              "    </tr>\n",
              "    <tr>\n",
              "      <th>9</th>\n",
              "      <td>4.0</td>\n",
              "      <td>2.0</td>\n",
              "      <td>NaN</td>\n",
              "      <td>5.0</td>\n",
              "      <td>3.0</td>\n",
              "      <td>NaN</td>\n",
              "      <td>4.0</td>\n",
              "      <td>3.0</td>\n",
              "      <td>4.0</td>\n",
              "      <td>NaN</td>\n",
              "      <td>NaN</td>\n",
              "      <td>NaN</td>\n",
              "      <td>2.0</td>\n",
              "      <td>NaN</td>\n",
              "      <td>NaN</td>\n",
              "      <td>2.0</td>\n",
              "      <td>5.0</td>\n",
              "      <td>1.0</td>\n",
              "      <td>NaN</td>\n",
              "      <td>NaN</td>\n",
              "    </tr>\n",
              "    <tr>\n",
              "      <th>11</th>\n",
              "      <td>3.0</td>\n",
              "      <td>5.0</td>\n",
              "      <td>2.0</td>\n",
              "      <td>NaN</td>\n",
              "      <td>2.0</td>\n",
              "      <td>NaN</td>\n",
              "      <td>2.0</td>\n",
              "      <td>NaN</td>\n",
              "      <td>1.0</td>\n",
              "      <td>NaN</td>\n",
              "      <td>3.0</td>\n",
              "      <td>NaN</td>\n",
              "      <td>3.0</td>\n",
              "      <td>NaN</td>\n",
              "      <td>2.0</td>\n",
              "      <td>5.0</td>\n",
              "      <td>NaN</td>\n",
              "      <td>NaN</td>\n",
              "      <td>NaN</td>\n",
              "      <td>2.0</td>\n",
              "    </tr>\n",
              "    <tr>\n",
              "      <th>12</th>\n",
              "      <td>2.0</td>\n",
              "      <td>3.0</td>\n",
              "      <td>NaN</td>\n",
              "      <td>5.0</td>\n",
              "      <td>4.0</td>\n",
              "      <td>NaN</td>\n",
              "      <td>4.0</td>\n",
              "      <td>5.0</td>\n",
              "      <td>NaN</td>\n",
              "      <td>NaN</td>\n",
              "      <td>NaN</td>\n",
              "      <td>2.0</td>\n",
              "      <td>4.0</td>\n",
              "      <td>NaN</td>\n",
              "      <td>3.0</td>\n",
              "      <td>NaN</td>\n",
              "      <td>NaN</td>\n",
              "      <td>NaN</td>\n",
              "      <td>5.0</td>\n",
              "      <td>NaN</td>\n",
              "    </tr>\n",
              "    <tr>\n",
              "      <th>16</th>\n",
              "      <td>NaN</td>\n",
              "      <td>NaN</td>\n",
              "      <td>NaN</td>\n",
              "      <td>NaN</td>\n",
              "      <td>4.0</td>\n",
              "      <td>NaN</td>\n",
              "      <td>2.0</td>\n",
              "      <td>NaN</td>\n",
              "      <td>2.0</td>\n",
              "      <td>NaN</td>\n",
              "      <td>2.0</td>\n",
              "      <td>NaN</td>\n",
              "      <td>NaN</td>\n",
              "      <td>NaN</td>\n",
              "      <td>NaN</td>\n",
              "      <td>4.0</td>\n",
              "      <td>NaN</td>\n",
              "      <td>NaN</td>\n",
              "      <td>NaN</td>\n",
              "      <td>NaN</td>\n",
              "    </tr>\n",
              "    <tr>\n",
              "      <th>18</th>\n",
              "      <td>5.0</td>\n",
              "      <td>1.0</td>\n",
              "      <td>NaN</td>\n",
              "      <td>NaN</td>\n",
              "      <td>NaN</td>\n",
              "      <td>4.0</td>\n",
              "      <td>2.0</td>\n",
              "      <td>1.0</td>\n",
              "      <td>3.0</td>\n",
              "      <td>3.0</td>\n",
              "      <td>3.0</td>\n",
              "      <td>1.0</td>\n",
              "      <td>NaN</td>\n",
              "      <td>NaN</td>\n",
              "      <td>NaN</td>\n",
              "      <td>2.0</td>\n",
              "      <td>NaN</td>\n",
              "      <td>NaN</td>\n",
              "      <td>NaN</td>\n",
              "      <td>NaN</td>\n",
              "    </tr>\n",
              "    <tr>\n",
              "      <th>19</th>\n",
              "      <td>1.0</td>\n",
              "      <td>2.0</td>\n",
              "      <td>2.0</td>\n",
              "      <td>4.0</td>\n",
              "      <td>5.0</td>\n",
              "      <td>NaN</td>\n",
              "      <td>2.0</td>\n",
              "      <td>3.0</td>\n",
              "      <td>2.0</td>\n",
              "      <td>2.0</td>\n",
              "      <td>1.0</td>\n",
              "      <td>NaN</td>\n",
              "      <td>NaN</td>\n",
              "      <td>5.0</td>\n",
              "      <td>5.0</td>\n",
              "      <td>4.0</td>\n",
              "      <td>3.0</td>\n",
              "      <td>5.0</td>\n",
              "      <td>3.0</td>\n",
              "      <td>NaN</td>\n",
              "    </tr>\n",
              "  </tbody>\n",
              "</table>\n",
              "</div>"
            ],
            "text/plain": [
              "    260: Star Wars: Episode IV - A New Hope (1977)  ...  34: Babe (1995)\n",
              "0                                              1.0  ...              NaN\n",
              "1                                              5.0  ...              NaN\n",
              "3                                              NaN  ...              2.0\n",
              "6                                              NaN  ...              2.0\n",
              "7                                              4.0  ...              NaN\n",
              "9                                              4.0  ...              NaN\n",
              "11                                             3.0  ...              2.0\n",
              "12                                             2.0  ...              NaN\n",
              "16                                             NaN  ...              NaN\n",
              "18                                             5.0  ...              NaN\n",
              "19                                             1.0  ...              NaN\n",
              "\n",
              "[11 rows x 20 columns]"
            ]
          },
          "metadata": {
            "tags": []
          },
          "execution_count": 29
        }
      ]
    },
    {
      "cell_type": "code",
      "metadata": {
        "id": "f66UmxGkWAqO"
      },
      "source": [
        "m = []\n",
        "for i in df3.columns:\n",
        "  m.append(df3[i].mean())"
      ],
      "execution_count": null,
      "outputs": []
    },
    {
      "cell_type": "code",
      "metadata": {
        "id": "s6cRa7RPXWbm",
        "outputId": "818b0295-e38f-478b-8a23-ad598c9b7907",
        "colab": {
          "base_uri": "https://localhost:8080/",
          "height": 34
        }
      },
      "source": [
        "len(m)"
      ],
      "execution_count": null,
      "outputs": [
        {
          "output_type": "execute_result",
          "data": {
            "text/plain": [
              "20"
            ]
          },
          "metadata": {
            "tags": []
          },
          "execution_count": 31
        }
      ]
    },
    {
      "cell_type": "code",
      "metadata": {
        "id": "Uifc1az2YStR",
        "outputId": "e1b744b5-4ec2-4955-f874-904f693429f5",
        "colab": {
          "base_uri": "https://localhost:8080/",
          "height": 353
        }
      },
      "source": [
        "m"
      ],
      "execution_count": null,
      "outputs": [
        {
          "output_type": "execute_result",
          "data": {
            "text/plain": [
              "[3.125,\n",
              " 3.0,\n",
              " 2.25,\n",
              " 3.4,\n",
              " 3.3333333333333335,\n",
              " 2.8333333333333335,\n",
              " 2.3,\n",
              " 3.142857142857143,\n",
              " 2.625,\n",
              " 3.0,\n",
              " 2.142857142857143,\n",
              " 2.2,\n",
              " 2.857142857142857,\n",
              " 3.0,\n",
              " 3.5,\n",
              " 3.142857142857143,\n",
              " 3.5,\n",
              " 2.6666666666666665,\n",
              " 3.6666666666666665,\n",
              " 2.0]"
            ]
          },
          "metadata": {
            "tags": []
          },
          "execution_count": 32
        }
      ]
    },
    {
      "cell_type": "code",
      "metadata": {
        "id": "RIXCuv4oX6r3"
      },
      "source": [
        "df4 = df[df['Gender (1 =F, 0=M)']==1].iloc[:,2:]#dataset of movie rating only contain female\n"
      ],
      "execution_count": null,
      "outputs": []
    },
    {
      "cell_type": "code",
      "metadata": {
        "id": "I0pXkSGkYEpO",
        "outputId": "b4046dee-2ef1-4b71-a4be-331698194e38",
        "colab": {
          "base_uri": "https://localhost:8080/",
          "height": 468
        }
      },
      "source": [
        "df4"
      ],
      "execution_count": null,
      "outputs": [
        {
          "output_type": "execute_result",
          "data": {
            "text/html": [
              "<div>\n",
              "<style scoped>\n",
              "    .dataframe tbody tr th:only-of-type {\n",
              "        vertical-align: middle;\n",
              "    }\n",
              "\n",
              "    .dataframe tbody tr th {\n",
              "        vertical-align: top;\n",
              "    }\n",
              "\n",
              "    .dataframe thead th {\n",
              "        text-align: right;\n",
              "    }\n",
              "</style>\n",
              "<table border=\"1\" class=\"dataframe\">\n",
              "  <thead>\n",
              "    <tr style=\"text-align: right;\">\n",
              "      <th></th>\n",
              "      <th>260: Star Wars: Episode IV - A New Hope (1977)</th>\n",
              "      <th>1210: Star Wars: Episode VI - Return of the Jedi (1983)</th>\n",
              "      <th>356: Forrest Gump (1994)</th>\n",
              "      <th>318: Shawshank Redemption, The (1994)</th>\n",
              "      <th>593: Silence of the Lambs, The (1991)</th>\n",
              "      <th>3578: Gladiator (2000)</th>\n",
              "      <th>1: Toy Story (1995)</th>\n",
              "      <th>2028: Saving Private Ryan (1998)</th>\n",
              "      <th>296: Pulp Fiction (1994)</th>\n",
              "      <th>1259: Stand by Me (1986)</th>\n",
              "      <th>2396: Shakespeare in Love (1998)</th>\n",
              "      <th>2916: Total Recall (1990)</th>\n",
              "      <th>780: Independence Day (ID4) (1996)</th>\n",
              "      <th>541: Blade Runner (1982)</th>\n",
              "      <th>1265: Groundhog Day (1993)</th>\n",
              "      <th>2571: Matrix, The (1999)</th>\n",
              "      <th>527: Schindler's List (1993)</th>\n",
              "      <th>2762: Sixth Sense, The (1999)</th>\n",
              "      <th>1198: Raiders of the Lost Ark (1981)</th>\n",
              "      <th>34: Babe (1995)</th>\n",
              "    </tr>\n",
              "  </thead>\n",
              "  <tbody>\n",
              "    <tr>\n",
              "      <th>2</th>\n",
              "      <td>NaN</td>\n",
              "      <td>NaN</td>\n",
              "      <td>NaN</td>\n",
              "      <td>5.0</td>\n",
              "      <td>2.0</td>\n",
              "      <td>NaN</td>\n",
              "      <td>4.0</td>\n",
              "      <td>NaN</td>\n",
              "      <td>NaN</td>\n",
              "      <td>1.0</td>\n",
              "      <td>NaN</td>\n",
              "      <td>1.0</td>\n",
              "      <td>4.0</td>\n",
              "      <td>4.0</td>\n",
              "      <td>1.0</td>\n",
              "      <td>1.0</td>\n",
              "      <td>2.0</td>\n",
              "      <td>3.0</td>\n",
              "      <td>1.0</td>\n",
              "      <td>3.0</td>\n",
              "    </tr>\n",
              "    <tr>\n",
              "      <th>4</th>\n",
              "      <td>4.0</td>\n",
              "      <td>3.0</td>\n",
              "      <td>4.0</td>\n",
              "      <td>1.0</td>\n",
              "      <td>4.0</td>\n",
              "      <td>1.0</td>\n",
              "      <td>NaN</td>\n",
              "      <td>4.0</td>\n",
              "      <td>NaN</td>\n",
              "      <td>1.0</td>\n",
              "      <td>5.0</td>\n",
              "      <td>1.0</td>\n",
              "      <td>NaN</td>\n",
              "      <td>4.0</td>\n",
              "      <td>NaN</td>\n",
              "      <td>3.0</td>\n",
              "      <td>5.0</td>\n",
              "      <td>5.0</td>\n",
              "      <td>NaN</td>\n",
              "      <td>NaN</td>\n",
              "    </tr>\n",
              "    <tr>\n",
              "      <th>5</th>\n",
              "      <td>2.0</td>\n",
              "      <td>4.0</td>\n",
              "      <td>4.0</td>\n",
              "      <td>4.0</td>\n",
              "      <td>NaN</td>\n",
              "      <td>NaN</td>\n",
              "      <td>3.0</td>\n",
              "      <td>1.0</td>\n",
              "      <td>4.0</td>\n",
              "      <td>4.0</td>\n",
              "      <td>5.0</td>\n",
              "      <td>2.0</td>\n",
              "      <td>4.0</td>\n",
              "      <td>NaN</td>\n",
              "      <td>1.0</td>\n",
              "      <td>NaN</td>\n",
              "      <td>NaN</td>\n",
              "      <td>3.0</td>\n",
              "      <td>NaN</td>\n",
              "      <td>2.0</td>\n",
              "    </tr>\n",
              "    <tr>\n",
              "      <th>8</th>\n",
              "      <td>5.0</td>\n",
              "      <td>1.0</td>\n",
              "      <td>NaN</td>\n",
              "      <td>4.0</td>\n",
              "      <td>2.0</td>\n",
              "      <td>4.0</td>\n",
              "      <td>4.0</td>\n",
              "      <td>4.0</td>\n",
              "      <td>NaN</td>\n",
              "      <td>1.0</td>\n",
              "      <td>2.0</td>\n",
              "      <td>3.0</td>\n",
              "      <td>1.0</td>\n",
              "      <td>NaN</td>\n",
              "      <td>5.0</td>\n",
              "      <td>NaN</td>\n",
              "      <td>NaN</td>\n",
              "      <td>NaN</td>\n",
              "      <td>NaN</td>\n",
              "      <td>5.0</td>\n",
              "    </tr>\n",
              "    <tr>\n",
              "      <th>10</th>\n",
              "      <td>2.0</td>\n",
              "      <td>1.0</td>\n",
              "      <td>5.0</td>\n",
              "      <td>NaN</td>\n",
              "      <td>NaN</td>\n",
              "      <td>5.0</td>\n",
              "      <td>5.0</td>\n",
              "      <td>NaN</td>\n",
              "      <td>NaN</td>\n",
              "      <td>NaN</td>\n",
              "      <td>NaN</td>\n",
              "      <td>3.0</td>\n",
              "      <td>2.0</td>\n",
              "      <td>NaN</td>\n",
              "      <td>NaN</td>\n",
              "      <td>1.0</td>\n",
              "      <td>NaN</td>\n",
              "      <td>2.0</td>\n",
              "      <td>1.0</td>\n",
              "      <td>4.0</td>\n",
              "    </tr>\n",
              "    <tr>\n",
              "      <th>13</th>\n",
              "      <td>3.0</td>\n",
              "      <td>NaN</td>\n",
              "      <td>3.0</td>\n",
              "      <td>NaN</td>\n",
              "      <td>2.0</td>\n",
              "      <td>NaN</td>\n",
              "      <td>3.0</td>\n",
              "      <td>NaN</td>\n",
              "      <td>NaN</td>\n",
              "      <td>4.0</td>\n",
              "      <td>NaN</td>\n",
              "      <td>1.0</td>\n",
              "      <td>2.0</td>\n",
              "      <td>2.0</td>\n",
              "      <td>3.0</td>\n",
              "      <td>5.0</td>\n",
              "      <td>1.0</td>\n",
              "      <td>NaN</td>\n",
              "      <td>NaN</td>\n",
              "      <td>NaN</td>\n",
              "    </tr>\n",
              "    <tr>\n",
              "      <th>14</th>\n",
              "      <td>4.0</td>\n",
              "      <td>4.0</td>\n",
              "      <td>NaN</td>\n",
              "      <td>NaN</td>\n",
              "      <td>5.0</td>\n",
              "      <td>5.0</td>\n",
              "      <td>2.0</td>\n",
              "      <td>NaN</td>\n",
              "      <td>3.0</td>\n",
              "      <td>5.0</td>\n",
              "      <td>NaN</td>\n",
              "      <td>1.0</td>\n",
              "      <td>3.0</td>\n",
              "      <td>NaN</td>\n",
              "      <td>2.0</td>\n",
              "      <td>NaN</td>\n",
              "      <td>3.0</td>\n",
              "      <td>NaN</td>\n",
              "      <td>3.0</td>\n",
              "      <td>1.0</td>\n",
              "    </tr>\n",
              "    <tr>\n",
              "      <th>15</th>\n",
              "      <td>NaN</td>\n",
              "      <td>NaN</td>\n",
              "      <td>1.0</td>\n",
              "      <td>NaN</td>\n",
              "      <td>3.0</td>\n",
              "      <td>2.0</td>\n",
              "      <td>NaN</td>\n",
              "      <td>2.0</td>\n",
              "      <td>NaN</td>\n",
              "      <td>1.0</td>\n",
              "      <td>5.0</td>\n",
              "      <td>NaN</td>\n",
              "      <td>NaN</td>\n",
              "      <td>NaN</td>\n",
              "      <td>5.0</td>\n",
              "      <td>2.0</td>\n",
              "      <td>2.0</td>\n",
              "      <td>4.0</td>\n",
              "      <td>3.0</td>\n",
              "      <td>4.0</td>\n",
              "    </tr>\n",
              "    <tr>\n",
              "      <th>17</th>\n",
              "      <td>4.0</td>\n",
              "      <td>5.0</td>\n",
              "      <td>1.0</td>\n",
              "      <td>5.0</td>\n",
              "      <td>1.0</td>\n",
              "      <td>1.0</td>\n",
              "      <td>4.0</td>\n",
              "      <td>NaN</td>\n",
              "      <td>5.0</td>\n",
              "      <td>NaN</td>\n",
              "      <td>NaN</td>\n",
              "      <td>NaN</td>\n",
              "      <td>NaN</td>\n",
              "      <td>4.0</td>\n",
              "      <td>NaN</td>\n",
              "      <td>NaN</td>\n",
              "      <td>2.0</td>\n",
              "      <td>1.0</td>\n",
              "      <td>2.0</td>\n",
              "      <td>5.0</td>\n",
              "    </tr>\n",
              "  </tbody>\n",
              "</table>\n",
              "</div>"
            ],
            "text/plain": [
              "    260: Star Wars: Episode IV - A New Hope (1977)  ...  34: Babe (1995)\n",
              "2                                              NaN  ...              3.0\n",
              "4                                              4.0  ...              NaN\n",
              "5                                              2.0  ...              2.0\n",
              "8                                              5.0  ...              5.0\n",
              "10                                             2.0  ...              4.0\n",
              "13                                             3.0  ...              NaN\n",
              "14                                             4.0  ...              1.0\n",
              "15                                             NaN  ...              4.0\n",
              "17                                             4.0  ...              5.0\n",
              "\n",
              "[9 rows x 20 columns]"
            ]
          },
          "metadata": {
            "tags": []
          },
          "execution_count": 34
        }
      ]
    },
    {
      "cell_type": "code",
      "metadata": {
        "id": "nh_1hedBbBVq",
        "outputId": "05591324-6d1c-4e97-aa08-b244e628ade6",
        "colab": {
          "base_uri": "https://localhost:8080/",
          "height": 34
        }
      },
      "source": [
        "df4['318: Shawshank Redemption, The (1994)'].mean()"
      ],
      "execution_count": null,
      "outputs": [
        {
          "output_type": "execute_result",
          "data": {
            "text/plain": [
              "3.8"
            ]
          },
          "metadata": {
            "tags": []
          },
          "execution_count": 35
        }
      ]
    },
    {
      "cell_type": "code",
      "metadata": {
        "id": "UQgqk4mVYIF9"
      },
      "source": [
        "f = []\n",
        "for j in df4.columns:\n",
        "  f.append(df4[j].mean())"
      ],
      "execution_count": null,
      "outputs": []
    },
    {
      "cell_type": "code",
      "metadata": {
        "id": "eFZuyFHJYN9y",
        "outputId": "a3539937-d767-417e-adb2-489d7a98dc87",
        "colab": {
          "base_uri": "https://localhost:8080/",
          "height": 34
        }
      },
      "source": [
        "len(f)"
      ],
      "execution_count": null,
      "outputs": [
        {
          "output_type": "execute_result",
          "data": {
            "text/plain": [
              "20"
            ]
          },
          "metadata": {
            "tags": []
          },
          "execution_count": 37
        }
      ]
    },
    {
      "cell_type": "code",
      "metadata": {
        "id": "vPULrmwGYPji",
        "outputId": "00a25cbb-0782-405d-866e-76e88c4dc89f",
        "colab": {
          "base_uri": "https://localhost:8080/",
          "height": 353
        }
      },
      "source": [
        "f"
      ],
      "execution_count": null,
      "outputs": [
        {
          "output_type": "execute_result",
          "data": {
            "text/plain": [
              "[3.4285714285714284,\n",
              " 3.0,\n",
              " 3.0,\n",
              " 3.8,\n",
              " 2.7142857142857144,\n",
              " 3.0,\n",
              " 3.5714285714285716,\n",
              " 2.75,\n",
              " 4.0,\n",
              " 2.4285714285714284,\n",
              " 4.25,\n",
              " 1.7142857142857142,\n",
              " 2.6666666666666665,\n",
              " 3.5,\n",
              " 2.8333333333333335,\n",
              " 2.4,\n",
              " 2.5,\n",
              " 3.0,\n",
              " 2.0,\n",
              " 3.4285714285714284]"
            ]
          },
          "metadata": {
            "tags": []
          },
          "execution_count": 38
        }
      ]
    },
    {
      "cell_type": "code",
      "metadata": {
        "id": "bMg8OP9aZQOD"
      },
      "source": [
        "import numpy as np"
      ],
      "execution_count": null,
      "outputs": []
    },
    {
      "cell_type": "code",
      "metadata": {
        "id": "OPkrGnqqY1xm"
      },
      "source": [
        "diff = np.array(f)-np.array(m)"
      ],
      "execution_count": null,
      "outputs": []
    },
    {
      "cell_type": "code",
      "metadata": {
        "id": "DqLK8nOJYU8g",
        "outputId": "51978a5f-5747-47d8-d3ec-b57c796edbdd",
        "colab": {
          "base_uri": "https://localhost:8080/",
          "height": 84
        }
      },
      "source": [
        "diff"
      ],
      "execution_count": null,
      "outputs": [
        {
          "output_type": "execute_result",
          "data": {
            "text/plain": [
              "array([ 0.30357143,  0.        ,  0.75      ,  0.4       , -0.61904762,\n",
              "        0.16666667,  1.27142857, -0.39285714,  1.375     , -0.57142857,\n",
              "        2.10714286, -0.48571429, -0.19047619,  0.5       , -0.66666667,\n",
              "       -0.74285714, -1.        ,  0.33333333, -1.66666667,  1.42857143])"
            ]
          },
          "metadata": {
            "tags": []
          },
          "execution_count": 41
        }
      ]
    },
    {
      "cell_type": "code",
      "metadata": {
        "id": "XjTGEzssbZU3",
        "outputId": "e87e04d5-3868-4105-be69-f6273f7573cc",
        "colab": {
          "base_uri": "https://localhost:8080/",
          "height": 34
        }
      },
      "source": [
        "np.max(diff)"
      ],
      "execution_count": null,
      "outputs": [
        {
          "output_type": "execute_result",
          "data": {
            "text/plain": [
              "2.107142857142857"
            ]
          },
          "metadata": {
            "tags": []
          },
          "execution_count": 42
        }
      ]
    },
    {
      "cell_type": "code",
      "metadata": {
        "id": "TgHYTgL1b56G"
      },
      "source": [
        "diff1 = np.array(m)-np.array(f)"
      ],
      "execution_count": null,
      "outputs": []
    },
    {
      "cell_type": "code",
      "metadata": {
        "id": "B6TRRaIwb9NZ",
        "outputId": "0e2e4fc7-a7b5-4854-a01c-ad0bebc7217b",
        "colab": {
          "base_uri": "https://localhost:8080/",
          "height": 84
        }
      },
      "source": [
        "diff1"
      ],
      "execution_count": null,
      "outputs": [
        {
          "output_type": "execute_result",
          "data": {
            "text/plain": [
              "array([-0.30357143,  0.        , -0.75      , -0.4       ,  0.61904762,\n",
              "       -0.16666667, -1.27142857,  0.39285714, -1.375     ,  0.57142857,\n",
              "       -2.10714286,  0.48571429,  0.19047619, -0.5       ,  0.66666667,\n",
              "        0.74285714,  1.        , -0.33333333,  1.66666667, -1.42857143])"
            ]
          },
          "metadata": {
            "tags": []
          },
          "execution_count": 44
        }
      ]
    },
    {
      "cell_type": "code",
      "metadata": {
        "id": "S8aEUsSub-7O",
        "outputId": "d6b91bdf-3fa4-4382-afeb-0f7593c0ecd4",
        "colab": {
          "base_uri": "https://localhost:8080/",
          "height": 34
        }
      },
      "source": [
        "np.max(diff1)"
      ],
      "execution_count": null,
      "outputs": [
        {
          "output_type": "execute_result",
          "data": {
            "text/plain": [
              "1.6666666666666665"
            ]
          },
          "metadata": {
            "tags": []
          },
          "execution_count": 45
        }
      ]
    },
    {
      "cell_type": "code",
      "metadata": {
        "id": "rI6HOJw0afAg",
        "outputId": "7c639b3b-cc14-4337-f763-88a9e60d12b9",
        "colab": {
          "base_uri": "https://localhost:8080/",
          "height": 34
        }
      },
      "source": [
        "statistics.mean(m)"
      ],
      "execution_count": null,
      "outputs": [
        {
          "output_type": "execute_result",
          "data": {
            "text/plain": [
              "2.8842857142857143"
            ]
          },
          "metadata": {
            "tags": []
          },
          "execution_count": 49
        }
      ]
    },
    {
      "cell_type": "code",
      "metadata": {
        "id": "kRV9IZZGahxy",
        "outputId": "50695677-614a-43b5-a4be-d2492a96fd8b",
        "colab": {
          "base_uri": "https://localhost:8080/",
          "height": 34
        }
      },
      "source": [
        "import statistics\n",
        "statistics.mean(f)"
      ],
      "execution_count": null,
      "outputs": [
        {
          "output_type": "execute_result",
          "data": {
            "text/plain": [
              "2.999285714285714"
            ]
          },
          "metadata": {
            "tags": []
          },
          "execution_count": 47
        }
      ]
    },
    {
      "cell_type": "code",
      "metadata": {
        "id": "x60rM54barTZ",
        "outputId": "c20f7abf-c5af-49b5-8b56-514518d3557f",
        "colab": {
          "base_uri": "https://localhost:8080/",
          "height": 34
        }
      },
      "source": [
        "np.mean(f)-np.mean(m)\n",
        "#Male-Female Differences in Average Rating"
      ],
      "execution_count": null,
      "outputs": [
        {
          "output_type": "execute_result",
          "data": {
            "text/plain": [
              "0.11500000000000021"
            ]
          },
          "metadata": {
            "tags": []
          },
          "execution_count": 48
        }
      ]
    },
    {
      "cell_type": "code",
      "metadata": {
        "id": "_l5mSI0SgRnS"
      },
      "source": [
        "mn = []\n",
        "for i in df3.columns:\n",
        "  mn.append(len(df3[df3[i]>=4])/len(df3[i].dropna()))"
      ],
      "execution_count": null,
      "outputs": []
    },
    {
      "cell_type": "code",
      "metadata": {
        "id": "w14EQ6itgsvC",
        "outputId": "b3538635-7e20-4f58-e5c6-464b7c132d62",
        "colab": {
          "base_uri": "https://localhost:8080/",
          "height": 353
        }
      },
      "source": [
        "mn"
      ],
      "execution_count": null,
      "outputs": [
        {
          "output_type": "execute_result",
          "data": {
            "text/plain": [
              "[0.5,\n",
              " 0.25,\n",
              " 0.0,\n",
              " 0.6,\n",
              " 0.5555555555555556,\n",
              " 0.5,\n",
              " 0.2,\n",
              " 0.2857142857142857,\n",
              " 0.25,\n",
              " 0.25,\n",
              " 0.0,\n",
              " 0.2,\n",
              " 0.2857142857142857,\n",
              " 0.2,\n",
              " 0.5,\n",
              " 0.5714285714285714,\n",
              " 0.5,\n",
              " 0.3333333333333333,\n",
              " 0.5,\n",
              " 0.0]"
            ]
          },
          "metadata": {
            "tags": []
          },
          "execution_count": 53
        }
      ]
    },
    {
      "cell_type": "code",
      "metadata": {
        "id": "-AxDM-LeiP-W",
        "outputId": "3a3f938e-653b-41f0-c6a5-f95485aa5d22",
        "colab": {
          "base_uri": "https://localhost:8080/",
          "height": 84
        }
      },
      "source": [
        "np.array(mn)"
      ],
      "execution_count": null,
      "outputs": [
        {
          "output_type": "execute_result",
          "data": {
            "text/plain": [
              "array([0.5       , 0.25      , 0.        , 0.6       , 0.55555556,\n",
              "       0.5       , 0.2       , 0.28571429, 0.25      , 0.25      ,\n",
              "       0.        , 0.2       , 0.28571429, 0.2       , 0.5       ,\n",
              "       0.57142857, 0.5       , 0.33333333, 0.5       , 0.        ])"
            ]
          },
          "metadata": {
            "tags": []
          },
          "execution_count": 58
        }
      ]
    },
    {
      "cell_type": "code",
      "metadata": {
        "id": "nYHB-3J9hCSE"
      },
      "source": [
        "fn = []\n",
        "for i in df4.columns:\n",
        "  fn.append(len(df4[df4[i]>=4])/len(df4[i].dropna()))"
      ],
      "execution_count": null,
      "outputs": []
    },
    {
      "cell_type": "code",
      "metadata": {
        "id": "XgqZu2GMhH-U",
        "outputId": "98aa6ab5-65c7-4015-bef9-3363bea06a19",
        "colab": {
          "base_uri": "https://localhost:8080/",
          "height": 353
        }
      },
      "source": [
        "fn"
      ],
      "execution_count": null,
      "outputs": [
        {
          "output_type": "execute_result",
          "data": {
            "text/plain": [
              "[0.5714285714285714,\n",
              " 0.5,\n",
              " 0.5,\n",
              " 0.8,\n",
              " 0.2857142857142857,\n",
              " 0.5,\n",
              " 0.5714285714285714,\n",
              " 0.5,\n",
              " 0.6666666666666666,\n",
              " 0.42857142857142855,\n",
              " 0.75,\n",
              " 0.0,\n",
              " 0.3333333333333333,\n",
              " 0.75,\n",
              " 0.3333333333333333,\n",
              " 0.2,\n",
              " 0.16666666666666666,\n",
              " 0.3333333333333333,\n",
              " 0.0,\n",
              " 0.5714285714285714]"
            ]
          },
          "metadata": {
            "tags": []
          },
          "execution_count": 55
        }
      ]
    },
    {
      "cell_type": "code",
      "metadata": {
        "id": "nltXTOXAhvrN",
        "outputId": "a29621cf-0569-4983-e8a7-d338c624af9f",
        "colab": {
          "base_uri": "https://localhost:8080/",
          "height": 84
        }
      },
      "source": [
        "np.array(fn)"
      ],
      "execution_count": null,
      "outputs": [
        {
          "output_type": "execute_result",
          "data": {
            "text/plain": [
              "array([0.57142857, 0.5       , 0.5       , 0.8       , 0.28571429,\n",
              "       0.5       , 0.57142857, 0.5       , 0.66666667, 0.42857143,\n",
              "       0.75      , 0.        , 0.33333333, 0.75      , 0.33333333,\n",
              "       0.2       , 0.16666667, 0.33333333, 0.        , 0.57142857])"
            ]
          },
          "metadata": {
            "tags": []
          },
          "execution_count": 59
        }
      ]
    },
    {
      "cell_type": "code",
      "metadata": {
        "id": "MgkiPP08ie7Y",
        "outputId": "08a17fd1-dfec-4bf1-9a73-0026082ec16a",
        "colab": {
          "base_uri": "https://localhost:8080/",
          "height": 84
        }
      },
      "source": [
        "np.array(fn)-np.array(mn)"
      ],
      "execution_count": null,
      "outputs": [
        {
          "output_type": "execute_result",
          "data": {
            "text/plain": [
              "array([ 0.07142857,  0.25      ,  0.5       ,  0.2       , -0.26984127,\n",
              "        0.        ,  0.37142857,  0.21428571,  0.41666667,  0.17857143,\n",
              "        0.75      , -0.2       ,  0.04761905,  0.55      , -0.16666667,\n",
              "       -0.37142857, -0.33333333,  0.        , -0.5       ,  0.57142857])"
            ]
          },
          "metadata": {
            "tags": []
          },
          "execution_count": 61
        }
      ]
    },
    {
      "cell_type": "code",
      "metadata": {
        "id": "vMckBu1njsej",
        "outputId": "f3ca68a1-f536-4106-f1a2-29224c42b6e8",
        "colab": {
          "base_uri": "https://localhost:8080/",
          "height": 34
        }
      },
      "source": [
        "np.max(np.array(fn)-np.array(mn))"
      ],
      "execution_count": null,
      "outputs": [
        {
          "output_type": "execute_result",
          "data": {
            "text/plain": [
              "0.75"
            ]
          },
          "metadata": {
            "tags": []
          },
          "execution_count": 62
        }
      ]
    },
    {
      "cell_type": "code",
      "metadata": {
        "id": "qxtYyUojjJrx",
        "outputId": "b297a0ee-8c80-436c-be9d-e9c365e08583",
        "colab": {
          "base_uri": "https://localhost:8080/",
          "height": 84
        }
      },
      "source": [
        "np.array(mn)-np.array(fn)"
      ],
      "execution_count": null,
      "outputs": [
        {
          "output_type": "execute_result",
          "data": {
            "text/plain": [
              "array([-0.07142857, -0.25      , -0.5       , -0.2       ,  0.26984127,\n",
              "        0.        , -0.37142857, -0.21428571, -0.41666667, -0.17857143,\n",
              "       -0.75      ,  0.2       , -0.04761905, -0.55      ,  0.16666667,\n",
              "        0.37142857,  0.33333333,  0.        ,  0.5       , -0.57142857])"
            ]
          },
          "metadata": {
            "tags": []
          },
          "execution_count": 63
        }
      ]
    },
    {
      "cell_type": "code",
      "metadata": {
        "id": "XchMR8CWjwak",
        "outputId": "284e1bba-5d38-4553-aa34-8ab256d1b135",
        "colab": {
          "base_uri": "https://localhost:8080/",
          "height": 34
        }
      },
      "source": [
        "np.max(np.array(mn)-np.array(fn))#maximum Male-Female Differences in Average Rating by the percent-liking metric"
      ],
      "execution_count": null,
      "outputs": [
        {
          "output_type": "execute_result",
          "data": {
            "text/plain": [
              "0.5"
            ]
          },
          "metadata": {
            "tags": []
          },
          "execution_count": 64
        }
      ]
    },
    {
      "cell_type": "code",
      "metadata": {
        "id": "NPoI6VreoY1E",
        "outputId": "612a13dd-4291-4faf-8a05-c1a714c0422d",
        "colab": {
          "base_uri": "https://localhost:8080/",
          "height": 34
        }
      },
      "source": [
        "np.mean(np.array(fn)-np.array(mn))"
      ],
      "execution_count": null,
      "outputs": [
        {
          "output_type": "execute_result",
          "data": {
            "text/plain": [
              "0.1140079365079365"
            ]
          },
          "metadata": {
            "tags": []
          },
          "execution_count": 65
        }
      ]
    },
    {
      "cell_type": "code",
      "metadata": {
        "id": "2G9rnz4npN31",
        "outputId": "f8ef0705-e5eb-4a1f-83f5-03d38755d733",
        "colab": {
          "base_uri": "https://localhost:8080/",
          "height": 34
        }
      },
      "source": [
        "np.mean(mn)-np.mean(fn)"
      ],
      "execution_count": null,
      "outputs": [
        {
          "output_type": "execute_result",
          "data": {
            "text/plain": [
              "-0.11400793650793661"
            ]
          },
          "metadata": {
            "tags": []
          },
          "execution_count": 66
        }
      ]
    }
  ]
}